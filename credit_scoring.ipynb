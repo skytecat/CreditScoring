{
  "cells": [
    {
      "cell_type": "markdown",
      "metadata": {
        "id": "view-in-github",
        "colab_type": "text"
      },
      "source": [
        "<a href=\"https://colab.research.google.com/github/skytecat/CreditScoring/blob/main/credit_scoring.ipynb\" target=\"_parent\"><img src=\"https://colab.research.google.com/assets/colab-badge.svg\" alt=\"Open In Colab\"/></a>"
      ]
    },
    {
      "cell_type": "markdown",
      "metadata": {
        "id": "5ZwT9VESEkff"
      },
      "source": [
        "## Загрузка библиотек"
      ]
    },
    {
      "cell_type": "code",
      "execution_count": null,
      "metadata": {
        "colab": {
          "base_uri": "https://localhost:8080/"
        },
        "id": "KMjQIgEpTFtm",
        "outputId": "741de4ed-7482-4dfa-b745-7769abca7e4d"
      },
      "outputs": [
        {
          "output_type": "stream",
          "name": "stdout",
          "text": [
            "Collecting catboost\n",
            "  Downloading catboost-1.2.8-cp311-cp311-manylinux2014_x86_64.whl.metadata (1.2 kB)\n",
            "Requirement already satisfied: graphviz in /usr/local/lib/python3.11/dist-packages (from catboost) (0.21)\n",
            "Requirement already satisfied: matplotlib in /usr/local/lib/python3.11/dist-packages (from catboost) (3.10.0)\n",
            "Requirement already satisfied: numpy<3.0,>=1.16.0 in /usr/local/lib/python3.11/dist-packages (from catboost) (2.0.2)\n",
            "Requirement already satisfied: pandas>=0.24 in /usr/local/lib/python3.11/dist-packages (from catboost) (2.2.2)\n",
            "Requirement already satisfied: scipy in /usr/local/lib/python3.11/dist-packages (from catboost) (1.16.1)\n",
            "Requirement already satisfied: plotly in /usr/local/lib/python3.11/dist-packages (from catboost) (5.24.1)\n",
            "Requirement already satisfied: six in /usr/local/lib/python3.11/dist-packages (from catboost) (1.17.0)\n",
            "Requirement already satisfied: python-dateutil>=2.8.2 in /usr/local/lib/python3.11/dist-packages (from pandas>=0.24->catboost) (2.9.0.post0)\n",
            "Requirement already satisfied: pytz>=2020.1 in /usr/local/lib/python3.11/dist-packages (from pandas>=0.24->catboost) (2025.2)\n",
            "Requirement already satisfied: tzdata>=2022.7 in /usr/local/lib/python3.11/dist-packages (from pandas>=0.24->catboost) (2025.2)\n",
            "Requirement already satisfied: contourpy>=1.0.1 in /usr/local/lib/python3.11/dist-packages (from matplotlib->catboost) (1.3.3)\n",
            "Requirement already satisfied: cycler>=0.10 in /usr/local/lib/python3.11/dist-packages (from matplotlib->catboost) (0.12.1)\n",
            "Requirement already satisfied: fonttools>=4.22.0 in /usr/local/lib/python3.11/dist-packages (from matplotlib->catboost) (4.59.0)\n",
            "Requirement already satisfied: kiwisolver>=1.3.1 in /usr/local/lib/python3.11/dist-packages (from matplotlib->catboost) (1.4.8)\n",
            "Requirement already satisfied: packaging>=20.0 in /usr/local/lib/python3.11/dist-packages (from matplotlib->catboost) (25.0)\n",
            "Requirement already satisfied: pillow>=8 in /usr/local/lib/python3.11/dist-packages (from matplotlib->catboost) (11.3.0)\n",
            "Requirement already satisfied: pyparsing>=2.3.1 in /usr/local/lib/python3.11/dist-packages (from matplotlib->catboost) (3.2.3)\n",
            "Requirement already satisfied: tenacity>=6.2.0 in /usr/local/lib/python3.11/dist-packages (from plotly->catboost) (8.5.0)\n",
            "Downloading catboost-1.2.8-cp311-cp311-manylinux2014_x86_64.whl (99.2 MB)\n",
            "\u001b[2K   \u001b[90m━━━━━━━━━━━━━━━━━━━━━━━━━━━━━━━━━━━━━━━━\u001b[0m \u001b[32m99.2/99.2 MB\u001b[0m \u001b[31m9.6 MB/s\u001b[0m eta \u001b[36m0:00:00\u001b[0m\n",
            "\u001b[?25hInstalling collected packages: catboost\n",
            "Successfully installed catboost-1.2.8\n",
            "Collecting optuna\n",
            "  Downloading optuna-4.4.0-py3-none-any.whl.metadata (17 kB)\n",
            "Collecting alembic>=1.5.0 (from optuna)\n",
            "  Downloading alembic-1.16.4-py3-none-any.whl.metadata (7.3 kB)\n",
            "Collecting colorlog (from optuna)\n",
            "  Downloading colorlog-6.9.0-py3-none-any.whl.metadata (10 kB)\n",
            "Requirement already satisfied: numpy in /usr/local/lib/python3.11/dist-packages (from optuna) (2.0.2)\n",
            "Requirement already satisfied: packaging>=20.0 in /usr/local/lib/python3.11/dist-packages (from optuna) (25.0)\n",
            "Requirement already satisfied: sqlalchemy>=1.4.2 in /usr/local/lib/python3.11/dist-packages (from optuna) (2.0.42)\n",
            "Requirement already satisfied: tqdm in /usr/local/lib/python3.11/dist-packages (from optuna) (4.67.1)\n",
            "Requirement already satisfied: PyYAML in /usr/local/lib/python3.11/dist-packages (from optuna) (6.0.2)\n",
            "Requirement already satisfied: Mako in /usr/lib/python3/dist-packages (from alembic>=1.5.0->optuna) (1.1.3)\n",
            "Requirement already satisfied: typing-extensions>=4.12 in /usr/local/lib/python3.11/dist-packages (from alembic>=1.5.0->optuna) (4.14.1)\n",
            "Requirement already satisfied: greenlet>=1 in /usr/local/lib/python3.11/dist-packages (from sqlalchemy>=1.4.2->optuna) (3.2.3)\n",
            "Downloading optuna-4.4.0-py3-none-any.whl (395 kB)\n",
            "\u001b[2K   \u001b[90m━━━━━━━━━━━━━━━━━━━━━━━━━━━━━━━━━━━━━━━━\u001b[0m \u001b[32m395.9/395.9 kB\u001b[0m \u001b[31m14.1 MB/s\u001b[0m eta \u001b[36m0:00:00\u001b[0m\n",
            "\u001b[?25hDownloading alembic-1.16.4-py3-none-any.whl (247 kB)\n",
            "\u001b[2K   \u001b[90m━━━━━━━━━━━━━━━━━━━━━━━━━━━━━━━━━━━━━━━━\u001b[0m \u001b[32m247.0/247.0 kB\u001b[0m \u001b[31m25.2 MB/s\u001b[0m eta \u001b[36m0:00:00\u001b[0m\n",
            "\u001b[?25hDownloading colorlog-6.9.0-py3-none-any.whl (11 kB)\n",
            "Installing collected packages: colorlog, alembic, optuna\n",
            "Successfully installed alembic-1.16.4 colorlog-6.9.0 optuna-4.4.0\n"
          ]
        }
      ],
      "source": [
        "# Установка необходимых библиотек\n",
        "!pip install catboost\n",
        "!pip install optuna\n",
        "\n",
        "# Импорт библиотек\n",
        "import numpy as np\n",
        "import pandas as pd\n",
        "from catboost import CatBoostClassifier\n",
        "from sklearn.model_selection import StratifiedKFold, train_test_split\n",
        "from sklearn.metrics import roc_auc_score\n",
        "from sklearn.linear_model import LogisticRegression\n",
        "from sklearn.preprocessing import StandardScaler\n",
        "import optuna"
      ]
    },
    {
      "cell_type": "markdown",
      "metadata": {
        "id": "K7vwPflK9v-I"
      },
      "source": [
        "## Загрузка данных"
      ]
    },
    {
      "cell_type": "code",
      "execution_count": null,
      "metadata": {
        "colab": {
          "base_uri": "https://localhost:8080/"
        },
        "id": "I2oMIqTA-dCc",
        "outputId": "2f58d3c7-3589-4cdf-f021-d6180ce9a489"
      },
      "outputs": [
        {
          "output_type": "stream",
          "name": "stderr",
          "text": [
            "/tmp/ipython-input-195565322.py:1: DtypeWarning: Columns (49) have mixed types. Specify dtype option on import or set low_memory=False.\n",
            "  train_full = pd.read_csv(\"/content/drive/MyDrive/SHIFT_ML_2025_COMPETITION/shift_ml_2025_train.csv\")\n"
          ]
        }
      ],
      "source": [
        "train_full = pd.read_csv(\"/content/drive/MyDrive/SHIFT_ML_2025_COMPETITION/shift_ml_2025_train.csv\")\n",
        "test_final = pd.read_csv(\"/content/drive/MyDrive/SHIFT_ML_2025_COMPETITION/shift_ml_2025_test.csv\")"
      ]
    },
    {
      "cell_type": "markdown",
      "metadata": {
        "id": "COS82lXxE0Vs"
      },
      "source": [
        "## Первичный анализ"
      ]
    },
    {
      "cell_type": "code",
      "execution_count": null,
      "metadata": {
        "colab": {
          "base_uri": "https://localhost:8080/"
        },
        "id": "t4xia5IL-jPH",
        "outputId": "0fbadcfc-a045-4eab-bccb-8b340ff1f803"
      },
      "outputs": [
        {
          "name": "stdout",
          "output_type": "stream",
          "text": [
            "(1210779, 109)\n",
            "(134531, 108)\n"
          ]
        }
      ],
      "source": [
        "print(train_full.shape)\n",
        "print(test_final.shape)"
      ]
    },
    {
      "cell_type": "code",
      "execution_count": null,
      "metadata": {
        "colab": {
          "base_uri": "https://localhost:8080/",
          "height": 377
        },
        "id": "_BS8sMlZ_dR5",
        "outputId": "6f85b80e-13df-40df-96e0-0cd41c54fab1"
      },
      "outputs": [
        {
          "data": {
            "application/vnd.google.colaboratory.intrinsic+json": {
              "type": "dataframe",
              "variable_name": "train_full"
            },
            "text/html": [
              "\n",
              "  <div id=\"df-96e4b077-9b59-4ed7-84a7-e76f4e9f0a54\" class=\"colab-df-container\">\n",
              "    <div>\n",
              "<style scoped>\n",
              "    .dataframe tbody tr th:only-of-type {\n",
              "        vertical-align: middle;\n",
              "    }\n",
              "\n",
              "    .dataframe tbody tr th {\n",
              "        vertical-align: top;\n",
              "    }\n",
              "\n",
              "    .dataframe thead th {\n",
              "        text-align: right;\n",
              "    }\n",
              "</style>\n",
              "<table border=\"1\" class=\"dataframe\">\n",
              "  <thead>\n",
              "    <tr style=\"text-align: right;\">\n",
              "      <th></th>\n",
              "      <th>id</th>\n",
              "      <th>сумма_займа</th>\n",
              "      <th>срок_займа</th>\n",
              "      <th>процентная_ставка</th>\n",
              "      <th>аннуитет</th>\n",
              "      <th>рейтинг</th>\n",
              "      <th>допрейтинг</th>\n",
              "      <th>профессия_заемщика</th>\n",
              "      <th>стаж</th>\n",
              "      <th>владение_жильем</th>\n",
              "      <th>...</th>\n",
              "      <th>процент_счетов_прев_75_лимита</th>\n",
              "      <th>кол-во_публ_банкротств</th>\n",
              "      <th>кол-во_залогов</th>\n",
              "      <th>кредитный_лимит</th>\n",
              "      <th>кредитный_баланс_без_ипотеки</th>\n",
              "      <th>лимит_по_картам</th>\n",
              "      <th>лимит_по_аннуитетным_счетам</th>\n",
              "      <th>кредитный_баланс_по_возоб_счетам</th>\n",
              "      <th>особая_ситуация</th>\n",
              "      <th>тип_предоставления_кредита</th>\n",
              "    </tr>\n",
              "  </thead>\n",
              "  <tbody>\n",
              "    <tr>\n",
              "      <th>0</th>\n",
              "      <td>68355089</td>\n",
              "      <td>1235000.0</td>\n",
              "      <td>3 года</td>\n",
              "      <td>11.99</td>\n",
              "      <td>41014.0</td>\n",
              "      <td>В</td>\n",
              "      <td>В1</td>\n",
              "      <td>инженер</td>\n",
              "      <td>10+ лет</td>\n",
              "      <td>ИПОТЕКА</td>\n",
              "      <td>...</td>\n",
              "      <td>7.7</td>\n",
              "      <td>0.0</td>\n",
              "      <td>0.0</td>\n",
              "      <td>15700850.0</td>\n",
              "      <td>1973750.0</td>\n",
              "      <td>3965000.0</td>\n",
              "      <td>1233350.0</td>\n",
              "      <td>NaN</td>\n",
              "      <td>Нет</td>\n",
              "      <td>Наличные</td>\n",
              "    </tr>\n",
              "    <tr>\n",
              "      <th>1</th>\n",
              "      <td>68341763</td>\n",
              "      <td>1000000.0</td>\n",
              "      <td>5 лет</td>\n",
              "      <td>10.78</td>\n",
              "      <td>21633.0</td>\n",
              "      <td>Б</td>\n",
              "      <td>Б4</td>\n",
              "      <td>водитель грузовика</td>\n",
              "      <td>10+ лет</td>\n",
              "      <td>ИПОТЕКА</td>\n",
              "      <td>...</td>\n",
              "      <td>50.0</td>\n",
              "      <td>0.0</td>\n",
              "      <td>0.0</td>\n",
              "      <td>10920900.0</td>\n",
              "      <td>934800.0</td>\n",
              "      <td>310000.0</td>\n",
              "      <td>743850.0</td>\n",
              "      <td>NaN</td>\n",
              "      <td>Нет</td>\n",
              "      <td>Наличные</td>\n",
              "    </tr>\n",
              "    <tr>\n",
              "      <th>2</th>\n",
              "      <td>68426831</td>\n",
              "      <td>597500.0</td>\n",
              "      <td>3 года</td>\n",
              "      <td>13.44</td>\n",
              "      <td>20259.0</td>\n",
              "      <td>В</td>\n",
              "      <td>В3</td>\n",
              "      <td>ветеринарный техник</td>\n",
              "      <td>4 года</td>\n",
              "      <td>АРЕНДА</td>\n",
              "      <td>...</td>\n",
              "      <td>100.0</td>\n",
              "      <td>0.0</td>\n",
              "      <td>0.0</td>\n",
              "      <td>845000.0</td>\n",
              "      <td>639900.0</td>\n",
              "      <td>470000.0</td>\n",
              "      <td>200000.0</td>\n",
              "      <td>NaN</td>\n",
              "      <td>Нет</td>\n",
              "      <td>Наличные</td>\n",
              "    </tr>\n",
              "    <tr>\n",
              "      <th>3</th>\n",
              "      <td>68476668</td>\n",
              "      <td>1000000.0</td>\n",
              "      <td>3 года</td>\n",
              "      <td>9.17</td>\n",
              "      <td>31879.0</td>\n",
              "      <td>Б</td>\n",
              "      <td>Б2</td>\n",
              "      <td>вице-президент операций по набору персонала</td>\n",
              "      <td>10+ лет</td>\n",
              "      <td>ИПОТЕКА</td>\n",
              "      <td>...</td>\n",
              "      <td>100.0</td>\n",
              "      <td>0.0</td>\n",
              "      <td>0.0</td>\n",
              "      <td>19442600.0</td>\n",
              "      <td>5838100.0</td>\n",
              "      <td>1575000.0</td>\n",
              "      <td>2322600.0</td>\n",
              "      <td>NaN</td>\n",
              "      <td>Нет</td>\n",
              "      <td>Наличные</td>\n",
              "    </tr>\n",
              "    <tr>\n",
              "      <th>4</th>\n",
              "      <td>67275481</td>\n",
              "      <td>1000000.0</td>\n",
              "      <td>3 года</td>\n",
              "      <td>8.49</td>\n",
              "      <td>31563.0</td>\n",
              "      <td>Б</td>\n",
              "      <td>Б1</td>\n",
              "      <td>дорожному водителю</td>\n",
              "      <td>10+ лет</td>\n",
              "      <td>ИПОТЕКА</td>\n",
              "      <td>...</td>\n",
              "      <td>0.0</td>\n",
              "      <td>0.0</td>\n",
              "      <td>0.0</td>\n",
              "      <td>9669500.0</td>\n",
              "      <td>1396850.0</td>\n",
              "      <td>725000.0</td>\n",
              "      <td>1807200.0</td>\n",
              "      <td>NaN</td>\n",
              "      <td>Нет</td>\n",
              "      <td>Наличные</td>\n",
              "    </tr>\n",
              "  </tbody>\n",
              "</table>\n",
              "<p>5 rows × 109 columns</p>\n",
              "</div>\n",
              "    <div class=\"colab-df-buttons\">\n",
              "\n",
              "  <div class=\"colab-df-container\">\n",
              "    <button class=\"colab-df-convert\" onclick=\"convertToInteractive('df-96e4b077-9b59-4ed7-84a7-e76f4e9f0a54')\"\n",
              "            title=\"Convert this dataframe to an interactive table.\"\n",
              "            style=\"display:none;\">\n",
              "\n",
              "  <svg xmlns=\"http://www.w3.org/2000/svg\" height=\"24px\" viewBox=\"0 -960 960 960\">\n",
              "    <path d=\"M120-120v-720h720v720H120Zm60-500h600v-160H180v160Zm220 220h160v-160H400v160Zm0 220h160v-160H400v160ZM180-400h160v-160H180v160Zm440 0h160v-160H620v160ZM180-180h160v-160H180v160Zm440 0h160v-160H620v160Z\"/>\n",
              "  </svg>\n",
              "    </button>\n",
              "\n",
              "  <style>\n",
              "    .colab-df-container {\n",
              "      display:flex;\n",
              "      gap: 12px;\n",
              "    }\n",
              "\n",
              "    .colab-df-convert {\n",
              "      background-color: #E8F0FE;\n",
              "      border: none;\n",
              "      border-radius: 50%;\n",
              "      cursor: pointer;\n",
              "      display: none;\n",
              "      fill: #1967D2;\n",
              "      height: 32px;\n",
              "      padding: 0 0 0 0;\n",
              "      width: 32px;\n",
              "    }\n",
              "\n",
              "    .colab-df-convert:hover {\n",
              "      background-color: #E2EBFA;\n",
              "      box-shadow: 0px 1px 2px rgba(60, 64, 67, 0.3), 0px 1px 3px 1px rgba(60, 64, 67, 0.15);\n",
              "      fill: #174EA6;\n",
              "    }\n",
              "\n",
              "    .colab-df-buttons div {\n",
              "      margin-bottom: 4px;\n",
              "    }\n",
              "\n",
              "    [theme=dark] .colab-df-convert {\n",
              "      background-color: #3B4455;\n",
              "      fill: #D2E3FC;\n",
              "    }\n",
              "\n",
              "    [theme=dark] .colab-df-convert:hover {\n",
              "      background-color: #434B5C;\n",
              "      box-shadow: 0px 1px 3px 1px rgba(0, 0, 0, 0.15);\n",
              "      filter: drop-shadow(0px 1px 2px rgba(0, 0, 0, 0.3));\n",
              "      fill: #FFFFFF;\n",
              "    }\n",
              "  </style>\n",
              "\n",
              "    <script>\n",
              "      const buttonEl =\n",
              "        document.querySelector('#df-96e4b077-9b59-4ed7-84a7-e76f4e9f0a54 button.colab-df-convert');\n",
              "      buttonEl.style.display =\n",
              "        google.colab.kernel.accessAllowed ? 'block' : 'none';\n",
              "\n",
              "      async function convertToInteractive(key) {\n",
              "        const element = document.querySelector('#df-96e4b077-9b59-4ed7-84a7-e76f4e9f0a54');\n",
              "        const dataTable =\n",
              "          await google.colab.kernel.invokeFunction('convertToInteractive',\n",
              "                                                    [key], {});\n",
              "        if (!dataTable) return;\n",
              "\n",
              "        const docLinkHtml = 'Like what you see? Visit the ' +\n",
              "          '<a target=\"_blank\" href=https://colab.research.google.com/notebooks/data_table.ipynb>data table notebook</a>'\n",
              "          + ' to learn more about interactive tables.';\n",
              "        element.innerHTML = '';\n",
              "        dataTable['output_type'] = 'display_data';\n",
              "        await google.colab.output.renderOutput(dataTable, element);\n",
              "        const docLink = document.createElement('div');\n",
              "        docLink.innerHTML = docLinkHtml;\n",
              "        element.appendChild(docLink);\n",
              "      }\n",
              "    </script>\n",
              "  </div>\n",
              "\n",
              "\n",
              "    <div id=\"df-c397d2d9-37e8-4d49-a558-5e90e580359d\">\n",
              "      <button class=\"colab-df-quickchart\" onclick=\"quickchart('df-c397d2d9-37e8-4d49-a558-5e90e580359d')\"\n",
              "                title=\"Suggest charts\"\n",
              "                style=\"display:none;\">\n",
              "\n",
              "<svg xmlns=\"http://www.w3.org/2000/svg\" height=\"24px\"viewBox=\"0 0 24 24\"\n",
              "     width=\"24px\">\n",
              "    <g>\n",
              "        <path d=\"M19 3H5c-1.1 0-2 .9-2 2v14c0 1.1.9 2 2 2h14c1.1 0 2-.9 2-2V5c0-1.1-.9-2-2-2zM9 17H7v-7h2v7zm4 0h-2V7h2v10zm4 0h-2v-4h2v4z\"/>\n",
              "    </g>\n",
              "</svg>\n",
              "      </button>\n",
              "\n",
              "<style>\n",
              "  .colab-df-quickchart {\n",
              "      --bg-color: #E8F0FE;\n",
              "      --fill-color: #1967D2;\n",
              "      --hover-bg-color: #E2EBFA;\n",
              "      --hover-fill-color: #174EA6;\n",
              "      --disabled-fill-color: #AAA;\n",
              "      --disabled-bg-color: #DDD;\n",
              "  }\n",
              "\n",
              "  [theme=dark] .colab-df-quickchart {\n",
              "      --bg-color: #3B4455;\n",
              "      --fill-color: #D2E3FC;\n",
              "      --hover-bg-color: #434B5C;\n",
              "      --hover-fill-color: #FFFFFF;\n",
              "      --disabled-bg-color: #3B4455;\n",
              "      --disabled-fill-color: #666;\n",
              "  }\n",
              "\n",
              "  .colab-df-quickchart {\n",
              "    background-color: var(--bg-color);\n",
              "    border: none;\n",
              "    border-radius: 50%;\n",
              "    cursor: pointer;\n",
              "    display: none;\n",
              "    fill: var(--fill-color);\n",
              "    height: 32px;\n",
              "    padding: 0;\n",
              "    width: 32px;\n",
              "  }\n",
              "\n",
              "  .colab-df-quickchart:hover {\n",
              "    background-color: var(--hover-bg-color);\n",
              "    box-shadow: 0 1px 2px rgba(60, 64, 67, 0.3), 0 1px 3px 1px rgba(60, 64, 67, 0.15);\n",
              "    fill: var(--button-hover-fill-color);\n",
              "  }\n",
              "\n",
              "  .colab-df-quickchart-complete:disabled,\n",
              "  .colab-df-quickchart-complete:disabled:hover {\n",
              "    background-color: var(--disabled-bg-color);\n",
              "    fill: var(--disabled-fill-color);\n",
              "    box-shadow: none;\n",
              "  }\n",
              "\n",
              "  .colab-df-spinner {\n",
              "    border: 2px solid var(--fill-color);\n",
              "    border-color: transparent;\n",
              "    border-bottom-color: var(--fill-color);\n",
              "    animation:\n",
              "      spin 1s steps(1) infinite;\n",
              "  }\n",
              "\n",
              "  @keyframes spin {\n",
              "    0% {\n",
              "      border-color: transparent;\n",
              "      border-bottom-color: var(--fill-color);\n",
              "      border-left-color: var(--fill-color);\n",
              "    }\n",
              "    20% {\n",
              "      border-color: transparent;\n",
              "      border-left-color: var(--fill-color);\n",
              "      border-top-color: var(--fill-color);\n",
              "    }\n",
              "    30% {\n",
              "      border-color: transparent;\n",
              "      border-left-color: var(--fill-color);\n",
              "      border-top-color: var(--fill-color);\n",
              "      border-right-color: var(--fill-color);\n",
              "    }\n",
              "    40% {\n",
              "      border-color: transparent;\n",
              "      border-right-color: var(--fill-color);\n",
              "      border-top-color: var(--fill-color);\n",
              "    }\n",
              "    60% {\n",
              "      border-color: transparent;\n",
              "      border-right-color: var(--fill-color);\n",
              "    }\n",
              "    80% {\n",
              "      border-color: transparent;\n",
              "      border-right-color: var(--fill-color);\n",
              "      border-bottom-color: var(--fill-color);\n",
              "    }\n",
              "    90% {\n",
              "      border-color: transparent;\n",
              "      border-bottom-color: var(--fill-color);\n",
              "    }\n",
              "  }\n",
              "</style>\n",
              "\n",
              "      <script>\n",
              "        async function quickchart(key) {\n",
              "          const quickchartButtonEl =\n",
              "            document.querySelector('#' + key + ' button');\n",
              "          quickchartButtonEl.disabled = true;  // To prevent multiple clicks.\n",
              "          quickchartButtonEl.classList.add('colab-df-spinner');\n",
              "          try {\n",
              "            const charts = await google.colab.kernel.invokeFunction(\n",
              "                'suggestCharts', [key], {});\n",
              "          } catch (error) {\n",
              "            console.error('Error during call to suggestCharts:', error);\n",
              "          }\n",
              "          quickchartButtonEl.classList.remove('colab-df-spinner');\n",
              "          quickchartButtonEl.classList.add('colab-df-quickchart-complete');\n",
              "        }\n",
              "        (() => {\n",
              "          let quickchartButtonEl =\n",
              "            document.querySelector('#df-c397d2d9-37e8-4d49-a558-5e90e580359d button');\n",
              "          quickchartButtonEl.style.display =\n",
              "            google.colab.kernel.accessAllowed ? 'block' : 'none';\n",
              "        })();\n",
              "      </script>\n",
              "    </div>\n",
              "    </div>\n",
              "  </div>\n"
            ],
            "text/plain": [
              "         id  сумма_займа срок_займа  процентная_ставка  аннуитет рейтинг  \\\n",
              "0  68355089    1235000.0     3 года              11.99   41014.0       В   \n",
              "1  68341763    1000000.0      5 лет              10.78   21633.0       Б   \n",
              "2  68426831     597500.0     3 года              13.44   20259.0       В   \n",
              "3  68476668    1000000.0     3 года               9.17   31879.0       Б   \n",
              "4  67275481    1000000.0     3 года               8.49   31563.0       Б   \n",
              "\n",
              "  допрейтинг                           профессия_заемщика     стаж  \\\n",
              "0         В1                                      инженер  10+ лет   \n",
              "1         Б4                           водитель грузовика  10+ лет   \n",
              "2         В3                          ветеринарный техник   4 года   \n",
              "3         Б2  вице-президент операций по набору персонала  10+ лет   \n",
              "4         Б1                           дорожному водителю  10+ лет   \n",
              "\n",
              "  владение_жильем  ...  процент_счетов_прев_75_лимита кол-во_публ_банкротств  \\\n",
              "0         ИПОТЕКА  ...                            7.7                    0.0   \n",
              "1         ИПОТЕКА  ...                           50.0                    0.0   \n",
              "2          АРЕНДА  ...                          100.0                    0.0   \n",
              "3         ИПОТЕКА  ...                          100.0                    0.0   \n",
              "4         ИПОТЕКА  ...                            0.0                    0.0   \n",
              "\n",
              "   кол-во_залогов  кредитный_лимит кредитный_баланс_без_ипотеки  \\\n",
              "0             0.0       15700850.0                    1973750.0   \n",
              "1             0.0       10920900.0                     934800.0   \n",
              "2             0.0         845000.0                     639900.0   \n",
              "3             0.0       19442600.0                    5838100.0   \n",
              "4             0.0        9669500.0                    1396850.0   \n",
              "\n",
              "   лимит_по_картам лимит_по_аннуитетным_счетам  \\\n",
              "0        3965000.0                   1233350.0   \n",
              "1         310000.0                    743850.0   \n",
              "2         470000.0                    200000.0   \n",
              "3        1575000.0                   2322600.0   \n",
              "4         725000.0                   1807200.0   \n",
              "\n",
              "   кредитный_баланс_по_возоб_счетам  особая_ситуация  \\\n",
              "0                               NaN              Нет   \n",
              "1                               NaN              Нет   \n",
              "2                               NaN              Нет   \n",
              "3                               NaN              Нет   \n",
              "4                               NaN              Нет   \n",
              "\n",
              "  тип_предоставления_кредита  \n",
              "0                   Наличные  \n",
              "1                   Наличные  \n",
              "2                   Наличные  \n",
              "3                   Наличные  \n",
              "4                   Наличные  \n",
              "\n",
              "[5 rows x 109 columns]"
            ]
          },
          "execution_count": 5,
          "metadata": {},
          "output_type": "execute_result"
        }
      ],
      "source": [
        "train_full.head(5)"
      ]
    },
    {
      "cell_type": "code",
      "execution_count": null,
      "metadata": {
        "colab": {
          "base_uri": "https://localhost:8080/",
          "height": 195
        },
        "id": "bTToBPwg_GEK",
        "outputId": "6b669ca6-434f-4287-9424-8961e5fc410a"
      },
      "outputs": [
        {
          "name": "stdout",
          "output_type": "stream",
          "text": [
            "Распределение целевой переменной\n"
          ]
        },
        {
          "data": {
            "text/html": [
              "<div>\n",
              "<style scoped>\n",
              "    .dataframe tbody tr th:only-of-type {\n",
              "        vertical-align: middle;\n",
              "    }\n",
              "\n",
              "    .dataframe tbody tr th {\n",
              "        vertical-align: top;\n",
              "    }\n",
              "\n",
              "    .dataframe thead th {\n",
              "        text-align: right;\n",
              "    }\n",
              "</style>\n",
              "<table border=\"1\" class=\"dataframe\">\n",
              "  <thead>\n",
              "    <tr style=\"text-align: right;\">\n",
              "      <th></th>\n",
              "      <th>proportion</th>\n",
              "    </tr>\n",
              "    <tr>\n",
              "      <th>итоговый_статус_займа</th>\n",
              "      <th></th>\n",
              "    </tr>\n",
              "  </thead>\n",
              "  <tbody>\n",
              "    <tr>\n",
              "      <th>0</th>\n",
              "      <td>80.04</td>\n",
              "    </tr>\n",
              "    <tr>\n",
              "      <th>1</th>\n",
              "      <td>19.96</td>\n",
              "    </tr>\n",
              "  </tbody>\n",
              "</table>\n",
              "</div><br><label><b>dtype:</b> float64</label>"
            ],
            "text/plain": [
              "итоговый_статус_займа\n",
              "0    80.04\n",
              "1    19.96\n",
              "Name: proportion, dtype: float64"
            ]
          },
          "execution_count": 6,
          "metadata": {},
          "output_type": "execute_result"
        }
      ],
      "source": [
        "print(\"Распределение целевой переменной\")\n",
        "round(train_full['итоговый_статус_займа'].value_counts(normalize=True)*100, 2)"
      ]
    },
    {
      "cell_type": "code",
      "execution_count": null,
      "metadata": {
        "colab": {
          "base_uri": "https://localhost:8080/"
        },
        "id": "kpccK0z4AATD",
        "outputId": "1ce7d645-56a4-4a9e-b80a-f87bfaf80d6f"
      },
      "outputs": [
        {
          "data": {
            "text/plain": [
              "['id',\n",
              " 'сумма_займа',\n",
              " 'срок_займа',\n",
              " 'процентная_ставка',\n",
              " 'аннуитет',\n",
              " 'рейтинг',\n",
              " 'допрейтинг',\n",
              " 'профессия_заемщика',\n",
              " 'стаж',\n",
              " 'владение_жильем',\n",
              " 'годовой_доход',\n",
              " 'подтвержден_ли_доход',\n",
              " 'итоговый_статус_займа',\n",
              " 'рейтинг_OCR',\n",
              " 'платежный_график',\n",
              " 'коэфф_акционных_зачислений_в_остатке',\n",
              " 'цель_займа',\n",
              " 'кол_во_субсидий_за_год',\n",
              " 'индекс_проживания',\n",
              " 'регион',\n",
              " 'пдн',\n",
              " 'пос_стоп_фактор',\n",
              " 'юридический_статус',\n",
              " 'кол-во_просрочек_за_два_года',\n",
              " 'коэфф_невыплаченного_сумм_остатка',\n",
              " 'коэфф_исходного_платежа',\n",
              " 'дата_первого_займа',\n",
              " 'нижний_порог_рейтинга_заемщика',\n",
              " 'верхний_порог_рейтинга_заемщика',\n",
              " 'кол-во_заявок_за_полгода',\n",
              " 'кол-во_месяцев_с_последней_просрочки',\n",
              " 'кол-во_месяцев_с_последнего_займа',\n",
              " 'кол-во_открытых_счетов',\n",
              " 'кол-во_записей_в_общедоступных_документах',\n",
              " 'оборотный_баланс',\n",
              " 'коэфф_загрузки_возобновляемого_счета',\n",
              " 'кол-во_счетов',\n",
              " 'первоначальный_статус_займа',\n",
              " 'непогашенная_сумма_из_тела_займов',\n",
              " 'сумма_выплат_по_просрочкам',\n",
              " 'пени_за_дефолт',\n",
              " 'дата_следующей_выплаты',\n",
              " 'грейд_на_детерминаторе',\n",
              " 'кол-во_взысканий_за_последний_год',\n",
              " 'кол-во_месяцев_с_последнего_нарушения',\n",
              " 'код_политики',\n",
              " 'тип_займа',\n",
              " 'совокупный_доход_заемщиков',\n",
              " 'совокупный_пдн_заемщиков',\n",
              " 'совокупный_статус_подтверждения_доходов_заемщиков',\n",
              " 'кол-во_текущих_просроченных_счетов',\n",
              " 'общая_сумма_взысканий',\n",
              " 'возвраты_с_учетом_мпл',\n",
              " 'общая_сумма_на_счетах',\n",
              " 'кол-во_открытых_счетов_за_полгода',\n",
              " 'кол-во_текущих_аннуитетных_счетов',\n",
              " 'кол-во_аннуитетных_счетов_за_год',\n",
              " 'кол-во_аннуитетных_счетов_за_2_года',\n",
              " 'кол-во_месяцев_с_посл_аннуитетного_счета',\n",
              " 'текущий_баланс_по_аннуитетным_счетам',\n",
              " 'соотношение_сумм_текущего_баланса_к_лимиту_по_аннуитетным_счетам',\n",
              " 'кол-во_возоб_счетов_за_год',\n",
              " 'кол-во_возоб_счетов_за_2_года',\n",
              " 'макс_баланс_по_возоб_счетам',\n",
              " 'соотношение_баланса_к_лимиту_общее',\n",
              " 'общий_лимит_по_возоб_счету',\n",
              " 'кол-во_финансовых_запросов',\n",
              " 'кол-во_финансовых_операций',\n",
              " 'кол-во_заявок_на_кредит_за_год',\n",
              " 'кол-во_открытых_счетов_за_2_года',\n",
              " 'средний_баланс_текущих_счетов',\n",
              " 'суммарная_доступная_сумма_займа_по_картам',\n",
              " 'соотношение_баланса_к_лимиту_по_картам',\n",
              " 'кол-во_списаний_за_год',\n",
              " 'сумма_задолженности',\n",
              " 'кол-во_месяцев_с_первого_аннуитетного_счета',\n",
              " 'кол-во_месяцев_с_первого_возобновляемого_счета',\n",
              " 'кол-во_месяцев_с_последнего_возобновляемого_счета',\n",
              " 'кол-во_месяцев_с_последнего_счета',\n",
              " 'кол-во_ипотек',\n",
              " 'кол-во_месяцев_с_последней_карты',\n",
              " 'кол-во_мес_с_последней_задолженности_по_карте',\n",
              " 'кол-во_мес_с_последней_заявки',\n",
              " 'кол-во_мес_с_последней_задолженности_по_возобновляемому_счету',\n",
              " 'кол-во_счетов_с_просрочкой_4_мес',\n",
              " 'кол-во_активных_карт',\n",
              " 'кол-во_активных_возобновляемых_счетов',\n",
              " 'кол-во_карт_без_нарушений',\n",
              " 'кол-во_карт',\n",
              " 'кол-во_аннуитетных_счетов',\n",
              " 'кол-во_открытых_возобновляемых_счетов',\n",
              " 'кол-во_возобновляемых_счетов',\n",
              " 'кол-во_возобновляемых_счетов_с_балансом_более_0',\n",
              " 'кол-во_счетов_без_нарушений',\n",
              " 'кол-во_счетов_с_акт_просрочкой_4_мес_обн_2_мес',\n",
              " 'кол-во_счетов_с_акт_просрочкой_1_мес',\n",
              " 'кол-во_счетов_с_акт_просрочкой_3_мес_за_2_года',\n",
              " 'кол-во_счетов_за_посл_год',\n",
              " 'процент_счетов_без_просрочек',\n",
              " 'процент_счетов_прев_75_лимита',\n",
              " 'кол-во_публ_банкротств',\n",
              " 'кол-во_залогов',\n",
              " 'кредитный_лимит',\n",
              " 'кредитный_баланс_без_ипотеки',\n",
              " 'лимит_по_картам',\n",
              " 'лимит_по_аннуитетным_счетам',\n",
              " 'кредитный_баланс_по_возоб_счетам',\n",
              " 'особая_ситуация',\n",
              " 'тип_предоставления_кредита']"
            ]
          },
          "execution_count": 7,
          "metadata": {},
          "output_type": "execute_result"
        }
      ],
      "source": [
        "# Столбцы в train\n",
        "train_full.columns.to_list()"
      ]
    },
    {
      "cell_type": "code",
      "execution_count": null,
      "metadata": {
        "colab": {
          "base_uri": "https://localhost:8080/"
        },
        "id": "1dfqX3b4CWoe",
        "outputId": "220ed706-e2f2-41ee-d5df-e3be5449dbd3"
      },
      "outputs": [
        {
          "name": "stdout",
          "output_type": "stream",
          "text": [
            "Количество совпадающих ID: 0\n"
          ]
        }
      ],
      "source": [
        "# Проверка на пересечение ID в тестовой и тренировочной выборке\n",
        "overlap = len(set(train_full['id']) & set(test_final['id']))\n",
        "print(f\"Количество совпадающих ID: {overlap}\")"
      ]
    },
    {
      "cell_type": "markdown",
      "metadata": {
        "id": "2xA7rDpZCgGt"
      },
      "source": [
        "Вывод: Количество совпадающих id между обучающей и тестовой выборками - 0. Это означает, что выборки независимы по идентификаторам заемщиков.\n",
        "\n",
        "\n",
        "**Признак id необходимо удалить** из признаков, используемых для обучения модели, т.к. он не несет никакой информации о характеристиках заемщика, его поведении или рисках. В тестовой выборке будут совершенно новые id. Модель, обученная на старых id, не сможет использовать этот признак для предсказания. Это может привести к переобучению модели\n"
      ]
    },
    {
      "cell_type": "markdown",
      "metadata": {
        "id": "yGAgRV93Bjy6"
      },
      "source": [
        "Признак **пени_за_дефолт** вызывает подозрение на утечку данных (**data leakage**).\n",
        "\n",
        "\n",
        "Если этот признак становится известен только после наступления события \"дефолт\", то использовать его для предсказания этого события - это нарушение причинно-следственной связи. Модель не должна знать \"будущее\""
      ]
    },
    {
      "cell_type": "code",
      "execution_count": null,
      "metadata": {
        "colab": {
          "base_uri": "https://localhost:8080/"
        },
        "id": "6dYNgdeQBrsJ",
        "outputId": "6f241e87-bc97-4787-8be3-13d4c04b2452"
      },
      "outputs": [
        {
          "name": "stdout",
          "output_type": "stream",
          "text": [
            "Уникальные значения 'пени_за_дефолт' в тесте:\n",
            "[nan]\n"
          ]
        }
      ],
      "source": [
        "# Проверим уникальные значения в тестовой выборке\n",
        "print(\"Уникальные значения 'пени_за_дефолт' в тесте:\")\n",
        "print(test_final['пени_за_дефолт'].unique())"
      ]
    },
    {
      "cell_type": "markdown",
      "metadata": {
        "id": "yX3lgEv2CH-q"
      },
      "source": [
        "Признак **пени_за_дефолт** в тестовой выборке не заполнен, что подтверждает его непригодность для использования в предсказательной модели"
      ]
    },
    {
      "cell_type": "markdown",
      "metadata": {
        "id": "2xuHb7x8Dye-"
      },
      "source": [
        "Посмотрим есть ли еще полностью пустые столбцы в тестовой выборке"
      ]
    },
    {
      "cell_type": "code",
      "execution_count": null,
      "metadata": {
        "colab": {
          "base_uri": "https://localhost:8080/"
        },
        "id": "WdFyuJC2D8Fc",
        "outputId": "40dac3fb-e1de-43ba-b599-7c88b25fda58"
      },
      "outputs": [
        {
          "data": {
            "text/plain": [
              "['пени_за_дефолт', 'дата_следующей_выплаты']"
            ]
          },
          "execution_count": 10,
          "metadata": {},
          "output_type": "execute_result"
        }
      ],
      "source": [
        "all_null_columns_test = test_final.columns[test_final.isna().all()].tolist()\n",
        "all_null_columns_test"
      ]
    },
    {
      "cell_type": "markdown",
      "metadata": {
        "id": "vHkplfZbLLfB"
      },
      "source": [
        "Удаление ненужных столбцов и разделение данных на признаки и целевую переменную"
      ]
    },
    {
      "cell_type": "code",
      "execution_count": null,
      "metadata": {
        "id": "qs47NkLgNREy"
      },
      "outputs": [],
      "source": [
        "X = train_full.copy()\n",
        "y = train_full['итоговый_статус_займа']\n",
        "\n",
        "X = X.drop(['пени_за_дефолт', 'id', 'дата_следующей_выплаты', 'итоговый_статус_займа'], axis=1)"
      ]
    },
    {
      "cell_type": "code",
      "execution_count": null,
      "metadata": {
        "colab": {
          "base_uri": "https://localhost:8080/"
        },
        "id": "1BsONfSf_Sy3",
        "outputId": "5aa0600b-e113-446b-bb70-64deb66209a0"
      },
      "outputs": [
        {
          "name": "stdout",
          "output_type": "stream",
          "text": [
            "float64    83\n",
            "object     18\n",
            "int64       4\n",
            "Name: count, dtype: int64\n"
          ]
        }
      ],
      "source": [
        "# Анализ типов данных признаков\n",
        "print(X.dtypes.value_counts())"
      ]
    },
    {
      "cell_type": "markdown",
      "metadata": {
        "id": "ZQAQdnA1ERf4"
      },
      "source": [
        "**Выбор модели:**\n",
        "\n",
        "У нас есть 18 категориальных признаков. Обработка таких признаков требует особого подхода (например, One-Hot Encoding, Label Encoding). Многие алгоритмы (например, логистическая регрессия, SVM) не могут напрямую работать с текстовыми категориями.\n",
        "\n",
        "\n",
        "**CatBoost** же разработан специально для эффективной и автоматической обработки категориальных данных. Его можно напрямую обучить на признаках типа object без необходимости предварительного ручного кодирования. Также он хорошо справляется с пропущенными значениями и не требует их обязательного заполнения средними/медианами.\n",
        "\n",
        "Вывод: Наличие большого количества категориальных признаков (object) делает CatBoost идеальным кандидатом для этой задачи, обеспечивая при этом высокое качество, удобство использования и минимальную необходимость в ручной предобработке категорий."
      ]
    },
    {
      "cell_type": "markdown",
      "metadata": {
        "id": "Hunl08jJEzv9"
      },
      "source": [
        "## Baseline"
      ]
    },
    {
      "cell_type": "code",
      "execution_count": null,
      "metadata": {
        "colab": {
          "base_uri": "https://localhost:8080/"
        },
        "id": "nSah37TMEPNk",
        "outputId": "c3513412-b56c-4f52-bc66-911683e65f70"
      },
      "outputs": [
        {
          "name": "stdout",
          "output_type": "stream",
          "text": [
            "Logistic Regression AUC: 0.7284\n"
          ]
        }
      ],
      "source": [
        "# Выберем только числовые признаки, чтобы избежать сложностей с кодированием категориальных переменных на этом этапе\n",
        "num_features = X.select_dtypes(include=['int64', 'float64']).columns.tolist()\n",
        "X_num = X[num_features]\n",
        "\n",
        "# Заполним пропуски медианой\n",
        "X_num = X_num.fillna(X_num.median())\n",
        "\n",
        "# Используем только часть данных для ускорения обучения\n",
        "sample_size = min(100_000, len(X_num))\n",
        "idx_sample = np.random.RandomState(42).choice(X_num.index, size=sample_size, replace=False)\n",
        "X_sample = X_num.loc[idx_sample]\n",
        "y_sample = y.loc[idx_sample]\n",
        "\n",
        "# Разделение на train и validation с учетом дисбаланса\n",
        "X_train, X_val, y_train, y_val = train_test_split(\n",
        "    X_sample, y_sample,\n",
        "    test_size=0.2,\n",
        "    stratify=y_sample,\n",
        "    random_state=42\n",
        ")\n",
        "\n",
        "# Нормализация\n",
        "scaler = StandardScaler()\n",
        "X_train_scaled = scaler.fit_transform(X_train)\n",
        "X_val_scaled = scaler.transform(X_val)\n",
        "\n",
        "# Обучение модели\n",
        "model = LogisticRegression(\n",
        "    C=1.0,\n",
        "    solver='liblinear',\n",
        "    max_iter=1000,\n",
        "    random_state=42\n",
        ")\n",
        "\n",
        "model.fit(X_train_scaled, y_train)\n",
        "\n",
        "# Оценка модели\n",
        "val_pred = model.predict_proba(X_val_scaled)[:, 1]\n",
        "auc_score = roc_auc_score(y_val, val_pred)\n",
        "print(f\"Logistic Regression AUC: {auc_score:.4f}\")"
      ]
    },
    {
      "cell_type": "markdown",
      "metadata": {
        "id": "AOCVHAotFSlP"
      },
      "source": [
        "## Feature Engineering"
      ]
    },
    {
      "cell_type": "markdown",
      "metadata": {
        "id": "MoQ2MDddOQ4a"
      },
      "source": [
        "Создаем **новые признаки** на основе существующих данных, чтобы предоставить модели дополнительную информацию и потенциально улучшить её предсказательную способность"
      ]
    },
    {
      "cell_type": "code",
      "execution_count": null,
      "metadata": {
        "id": "nrxzyoslFVuF"
      },
      "outputs": [],
      "source": [
        "rating_rate = train_full.groupby('рейтинг')['итоговый_статус_займа'].mean()\n",
        "X['платеж_на_доход'] = X['аннуитет'] / (X['годовой_доход'] / 12 + 1)\n",
        "X['займ_на_доход'] = X['сумма_займа'] / (X['годовой_доход'] + 1)\n",
        "X['отношение_просрочек'] = X['сумма_выплат_по_просрочкам'] / (X['сумма_займа'] + 1)\n",
        "X['дефолт_по_рейтингу'] = X['рейтинг'].map(rating_rate).fillna(0)\n",
        "X['доля_карт_без_нарушений'] = X['кол-во_карт_без_нарушений'] / (X['кол-во_карт'] + 1)\n",
        "X['сумма_на_счетах_к_долгу'] = X['общая_сумма_на_счетах'] / (X['непогашенная_сумма_из_тела_займов'] + 1)\n",
        "X['сумма_на_счетах_к_аннуитету'] = X['общая_сумма_на_счетах'] / (X['аннуитет'] + 1)\n",
        "X['просрочка_к_доходу'] = X['сумма_выплат_по_просрочкам'] / (X['годовой_доход'] + 1)\n",
        "X['баланс_к_аннуитету'] = X['оборотный_баланс'] / (X['аннуитет'] + 1)"
      ]
    },
    {
      "cell_type": "markdown",
      "metadata": {
        "id": "gGEix8KpPVpN"
      },
      "source": [
        "**Созданные признаки:**\n",
        "\n",
        "**платеж_на_доход:**\n",
        "Отношение ежемесячного аннуитетного платежа к среднемесячному доходу заемщика. Показывает, какую долю своего дохода заемщик тратит на обслуживание этого займа.\n",
        "\n",
        "**займ_на_доход**:\n",
        "Отношение общей суммы займа к годовому доходу. Показывает, во сколько раз займ превышает годовой доход.\n",
        "\n",
        "**отношение_просрочек:**\n",
        "Доля средств, ушедших на погашение просрочек, от общей суммы займа.\n",
        "\n",
        "**дефолт_по_рейтингу:**\n",
        "Средняя частота дефолта для каждой категории признака рейтинг. Рассчитывается как среднее значение итоговый_статус_займа для каждого уникального рейтинга в обучающей выборке.\n",
        "\n",
        "**доля_карт_без_нарушений:**\n",
        "Доля карт заемщика, по которым отсутствуют нарушения.\n",
        "\n",
        "**сумма_на_счетах_к\\_долгу:**\n",
        "Отношение доступных средств на счетах к оставшемуся основному долгу по займам.\n",
        "\n",
        "**сумма_на_счетах_к\\_аннуитету:**\n",
        "Отношение доступных средств на счетах к ежемесячному аннуитетному платежу.\n",
        "\n",
        "**просрочка_к\\_доходу:**\n",
        "Отношение общей суммы выплат по просрочкам к годовому доходу заемщика. Показывает, насколько просрочки соотносятся с годовым доходом клиента.\n",
        "\n",
        "**баланс_к\\_аннуитету:**\n",
        "Отношение оборотного баланса к ежемесячному аннуитетному платежу. Отражает, во сколько раз баланс превышает обязательный ежемесячный платёж."
      ]
    },
    {
      "cell_type": "markdown",
      "metadata": {
        "id": "m8H4JHaEF_tY"
      },
      "source": [
        "## Обучение модели и кросс-валидация"
      ]
    },
    {
      "cell_type": "markdown",
      "metadata": {
        "id": "U2tfpVsWPsL4"
      },
      "source": [
        "На этом этапе мы обучаем модель **CatBoostClassifier** — используя 5-фолдную стратифицированную кросс-валидацию для надежной оценки качества"
      ]
    },
    {
      "cell_type": "code",
      "execution_count": null,
      "metadata": {
        "colab": {
          "base_uri": "https://localhost:8080/"
        },
        "id": "r5Wcrr7hPt_N",
        "outputId": "d13ba6dd-cbdb-48df-a8d5-faa82b320c04"
      },
      "outputs": [
        {
          "output_type": "stream",
          "name": "stderr",
          "text": [
            "Default metric period is 5 because AUC is/are not implemented for GPU\n"
          ]
        },
        {
          "output_type": "stream",
          "name": "stdout",
          "text": [
            "0:\ttest: 0.7307337\tbest: 0.7307337 (0)\ttotal: 867ms\tremaining: 7m 12s\n",
            "200:\ttest: 0.7604783\tbest: 0.7604783 (200)\ttotal: 52.9s\tremaining: 1m 18s\n",
            "400:\ttest: 0.7644164\tbest: 0.7644164 (400)\ttotal: 1m 45s\tremaining: 26s\n",
            "499:\ttest: 0.7653678\tbest: 0.7653678 (498)\ttotal: 2m 10s\tremaining: 0us\n",
            "bestTest = 0.765367806\n",
            "bestIteration = 498\n",
            "Shrink model to first 499 iterations.\n"
          ]
        },
        {
          "output_type": "stream",
          "name": "stderr",
          "text": [
            "Default metric period is 5 because AUC is/are not implemented for GPU\n"
          ]
        },
        {
          "output_type": "stream",
          "name": "stdout",
          "text": [
            "0:\ttest: 0.7303998\tbest: 0.7303998 (0)\ttotal: 265ms\tremaining: 2m 12s\n",
            "200:\ttest: 0.7614335\tbest: 0.7614335 (200)\ttotal: 53.1s\tremaining: 1m 18s\n",
            "400:\ttest: 0.7643579\tbest: 0.7643579 (400)\ttotal: 1m 45s\tremaining: 26s\n",
            "499:\ttest: 0.7657062\tbest: 0.7657110 (497)\ttotal: 2m 11s\tremaining: 0us\n",
            "bestTest = 0.7657110095\n",
            "bestIteration = 497\n",
            "Shrink model to first 498 iterations.\n"
          ]
        },
        {
          "output_type": "stream",
          "name": "stderr",
          "text": [
            "Default metric period is 5 because AUC is/are not implemented for GPU\n"
          ]
        },
        {
          "output_type": "stream",
          "name": "stdout",
          "text": [
            "0:\ttest: 0.7300332\tbest: 0.7300332 (0)\ttotal: 261ms\tremaining: 2m 10s\n",
            "200:\ttest: 0.7632975\tbest: 0.7632975 (200)\ttotal: 53.2s\tremaining: 1m 19s\n",
            "400:\ttest: 0.7664758\tbest: 0.7664787 (398)\ttotal: 2m\tremaining: 29.7s\n",
            "499:\ttest: 0.7670150\tbest: 0.7670150 (499)\ttotal: 2m 26s\tremaining: 0us\n",
            "bestTest = 0.7670149803\n",
            "bestIteration = 499\n"
          ]
        },
        {
          "output_type": "stream",
          "name": "stderr",
          "text": [
            "Default metric period is 5 because AUC is/are not implemented for GPU\n"
          ]
        },
        {
          "output_type": "stream",
          "name": "stdout",
          "text": [
            "0:\ttest: 0.7289789\tbest: 0.7289789 (0)\ttotal: 259ms\tremaining: 2m 9s\n",
            "200:\ttest: 0.7615907\tbest: 0.7615907 (200)\ttotal: 53.9s\tremaining: 1m 20s\n",
            "400:\ttest: 0.7653132\tbest: 0.7653149 (399)\ttotal: 1m 47s\tremaining: 26.4s\n",
            "499:\ttest: 0.7658879\tbest: 0.7658881 (498)\ttotal: 2m 13s\tremaining: 0us\n",
            "bestTest = 0.7658880949\n",
            "bestIteration = 498\n",
            "Shrink model to first 499 iterations.\n"
          ]
        },
        {
          "output_type": "stream",
          "name": "stderr",
          "text": [
            "Default metric period is 5 because AUC is/are not implemented for GPU\n"
          ]
        },
        {
          "output_type": "stream",
          "name": "stdout",
          "text": [
            "0:\ttest: 0.7287782\tbest: 0.7287782 (0)\ttotal: 253ms\tremaining: 2m 6s\n",
            "200:\ttest: 0.7629196\tbest: 0.7629196 (200)\ttotal: 52.6s\tremaining: 1m 18s\n",
            "400:\ttest: 0.7658138\tbest: 0.7658138 (400)\ttotal: 1m 45s\tremaining: 25.9s\n",
            "499:\ttest: 0.7663519\tbest: 0.7663572 (498)\ttotal: 2m 11s\tremaining: 0us\n",
            "bestTest = 0.7663572133\n",
            "bestIteration = 498\n",
            "Shrink model to first 499 iterations.\n",
            "Validation OOF AUC: 0.7661\n"
          ]
        }
      ],
      "source": [
        "kf = StratifiedKFold(n_splits=5, shuffle=True, random_state=42)\n",
        "models = []\n",
        "oof_preds = np.zeros(len(X))\n",
        "cat_features = X.select_dtypes(include='object').columns.tolist()\n",
        "\n",
        "# Заполняем пропуски в категориальных признаках\n",
        "for col in cat_features:\n",
        "    if col in X.columns:\n",
        "        X[col] = X[col].fillna('nan').astype(str)\n",
        "\n",
        "for train_idx, val_idx in kf.split(X, y):\n",
        "    X_train, X_val = X.iloc[train_idx], X.iloc[val_idx]\n",
        "    y_train, y_val = y.iloc[train_idx], y.iloc[val_idx]\n",
        "\n",
        "    model = CatBoostClassifier(\n",
        "        iterations=500,\n",
        "        learning_rate=0.1,\n",
        "        depth=8,\n",
        "        l2_leaf_reg=3.0,\n",
        "        random_strength=0.1,\n",
        "        eval_metric='AUC',\n",
        "        early_stopping_rounds=50,\n",
        "        verbose=200,\n",
        "        random_state=42,\n",
        "        cat_features=cat_features,\n",
        "        task_type='GPU'\n",
        "    )\n",
        "\n",
        "    model.fit(X_train, y_train, eval_set=(X_val, y_val), use_best_model=True)\n",
        "    val_pred = model.predict_proba(X_val)[:, 1]\n",
        "    oof_preds[val_idx] = val_pred\n",
        "\n",
        "    models.append(model)\n",
        "\n",
        "print(f\"Validation OOF AUC: {roc_auc_score(y, oof_preds):.4f}\")"
      ]
    },
    {
      "cell_type": "markdown",
      "metadata": {
        "id": "kb0lbvi2EkYM"
      },
      "source": [
        "После обучения модели мы можем проанализировать, насколько каждый признак **\"важен\"** для принятия решений моделью. Это позволяет понять, какие переменные наиболее влияют на предсказание риска дефолта"
      ]
    },
    {
      "cell_type": "code",
      "execution_count": null,
      "metadata": {
        "id": "uloGydnDQ0R7"
      },
      "outputs": [],
      "source": [
        "# Получение важности признаков от модели CatBoost\n",
        "importances = model.feature_importances_\n",
        "feature_names = X.columns\n",
        "\n",
        "# Создание DataFrame для удобного анализа\n",
        "importance_df = pd.DataFrame({\n",
        "    'feature': feature_names,\n",
        "    'importance': importances\n",
        "}).sort_values('importance', ascending=False)\n"
      ]
    },
    {
      "cell_type": "markdown",
      "metadata": {
        "id": "TAPX4Fc5RVxS"
      },
      "source": [
        "Признаки с высокой важностью (топ 20)"
      ]
    },
    {
      "cell_type": "code",
      "execution_count": null,
      "metadata": {
        "colab": {
          "base_uri": "https://localhost:8080/",
          "height": 676
        },
        "id": "6Uw91YNoeYVx",
        "outputId": "c3cf8649-dd3b-4d0b-9295-b520a1698a9b"
      },
      "outputs": [
        {
          "output_type": "execute_result",
          "data": {
            "text/plain": [
              "                              feature  importance\n",
              "5                          допрейтинг   11.359204\n",
              "112                просрочка_к_доходу    7.934688\n",
              "1                          срок_займа    5.123795\n",
              "37         сумма_выплат_по_просрочкам    3.761608\n",
              "4                             рейтинг    3.713082\n",
              "6                  профессия_заемщика    3.428830\n",
              "18                                пдн    3.333601\n",
              "2                   процентная_ставка    3.073628\n",
              "65   кол-во_открытых_счетов_за_2_года    2.857542\n",
              "17                             регион    2.551699\n",
              "8                     владение_жильем    2.451834\n",
              "106                     займ_на_доход    2.167160\n",
              "113                баланс_к_аннуитету    1.942037\n",
              "7                                стаж    1.779612\n",
              "9                       годовой_доход    1.768590\n",
              "98                    кредитный_лимит    1.305732\n",
              "25     нижний_порог_рейтинга_заемщика    1.268789\n",
              "75                      кол-во_ипотек    1.235216\n",
              "0                         сумма_займа    1.195054\n",
              "107               отношение_просрочек    1.182252"
            ],
            "text/html": [
              "\n",
              "  <div id=\"df-aa2bf1fe-517c-4997-8217-f07d1bff626a\" class=\"colab-df-container\">\n",
              "    <div>\n",
              "<style scoped>\n",
              "    .dataframe tbody tr th:only-of-type {\n",
              "        vertical-align: middle;\n",
              "    }\n",
              "\n",
              "    .dataframe tbody tr th {\n",
              "        vertical-align: top;\n",
              "    }\n",
              "\n",
              "    .dataframe thead th {\n",
              "        text-align: right;\n",
              "    }\n",
              "</style>\n",
              "<table border=\"1\" class=\"dataframe\">\n",
              "  <thead>\n",
              "    <tr style=\"text-align: right;\">\n",
              "      <th></th>\n",
              "      <th>feature</th>\n",
              "      <th>importance</th>\n",
              "    </tr>\n",
              "  </thead>\n",
              "  <tbody>\n",
              "    <tr>\n",
              "      <th>5</th>\n",
              "      <td>допрейтинг</td>\n",
              "      <td>11.359204</td>\n",
              "    </tr>\n",
              "    <tr>\n",
              "      <th>112</th>\n",
              "      <td>просрочка_к_доходу</td>\n",
              "      <td>7.934688</td>\n",
              "    </tr>\n",
              "    <tr>\n",
              "      <th>1</th>\n",
              "      <td>срок_займа</td>\n",
              "      <td>5.123795</td>\n",
              "    </tr>\n",
              "    <tr>\n",
              "      <th>37</th>\n",
              "      <td>сумма_выплат_по_просрочкам</td>\n",
              "      <td>3.761608</td>\n",
              "    </tr>\n",
              "    <tr>\n",
              "      <th>4</th>\n",
              "      <td>рейтинг</td>\n",
              "      <td>3.713082</td>\n",
              "    </tr>\n",
              "    <tr>\n",
              "      <th>6</th>\n",
              "      <td>профессия_заемщика</td>\n",
              "      <td>3.428830</td>\n",
              "    </tr>\n",
              "    <tr>\n",
              "      <th>18</th>\n",
              "      <td>пдн</td>\n",
              "      <td>3.333601</td>\n",
              "    </tr>\n",
              "    <tr>\n",
              "      <th>2</th>\n",
              "      <td>процентная_ставка</td>\n",
              "      <td>3.073628</td>\n",
              "    </tr>\n",
              "    <tr>\n",
              "      <th>65</th>\n",
              "      <td>кол-во_открытых_счетов_за_2_года</td>\n",
              "      <td>2.857542</td>\n",
              "    </tr>\n",
              "    <tr>\n",
              "      <th>17</th>\n",
              "      <td>регион</td>\n",
              "      <td>2.551699</td>\n",
              "    </tr>\n",
              "    <tr>\n",
              "      <th>8</th>\n",
              "      <td>владение_жильем</td>\n",
              "      <td>2.451834</td>\n",
              "    </tr>\n",
              "    <tr>\n",
              "      <th>106</th>\n",
              "      <td>займ_на_доход</td>\n",
              "      <td>2.167160</td>\n",
              "    </tr>\n",
              "    <tr>\n",
              "      <th>113</th>\n",
              "      <td>баланс_к_аннуитету</td>\n",
              "      <td>1.942037</td>\n",
              "    </tr>\n",
              "    <tr>\n",
              "      <th>7</th>\n",
              "      <td>стаж</td>\n",
              "      <td>1.779612</td>\n",
              "    </tr>\n",
              "    <tr>\n",
              "      <th>9</th>\n",
              "      <td>годовой_доход</td>\n",
              "      <td>1.768590</td>\n",
              "    </tr>\n",
              "    <tr>\n",
              "      <th>98</th>\n",
              "      <td>кредитный_лимит</td>\n",
              "      <td>1.305732</td>\n",
              "    </tr>\n",
              "    <tr>\n",
              "      <th>25</th>\n",
              "      <td>нижний_порог_рейтинга_заемщика</td>\n",
              "      <td>1.268789</td>\n",
              "    </tr>\n",
              "    <tr>\n",
              "      <th>75</th>\n",
              "      <td>кол-во_ипотек</td>\n",
              "      <td>1.235216</td>\n",
              "    </tr>\n",
              "    <tr>\n",
              "      <th>0</th>\n",
              "      <td>сумма_займа</td>\n",
              "      <td>1.195054</td>\n",
              "    </tr>\n",
              "    <tr>\n",
              "      <th>107</th>\n",
              "      <td>отношение_просрочек</td>\n",
              "      <td>1.182252</td>\n",
              "    </tr>\n",
              "  </tbody>\n",
              "</table>\n",
              "</div>\n",
              "    <div class=\"colab-df-buttons\">\n",
              "\n",
              "  <div class=\"colab-df-container\">\n",
              "    <button class=\"colab-df-convert\" onclick=\"convertToInteractive('df-aa2bf1fe-517c-4997-8217-f07d1bff626a')\"\n",
              "            title=\"Convert this dataframe to an interactive table.\"\n",
              "            style=\"display:none;\">\n",
              "\n",
              "  <svg xmlns=\"http://www.w3.org/2000/svg\" height=\"24px\" viewBox=\"0 -960 960 960\">\n",
              "    <path d=\"M120-120v-720h720v720H120Zm60-500h600v-160H180v160Zm220 220h160v-160H400v160Zm0 220h160v-160H400v160ZM180-400h160v-160H180v160Zm440 0h160v-160H620v160ZM180-180h160v-160H180v160Zm440 0h160v-160H620v160Z\"/>\n",
              "  </svg>\n",
              "    </button>\n",
              "\n",
              "  <style>\n",
              "    .colab-df-container {\n",
              "      display:flex;\n",
              "      gap: 12px;\n",
              "    }\n",
              "\n",
              "    .colab-df-convert {\n",
              "      background-color: #E8F0FE;\n",
              "      border: none;\n",
              "      border-radius: 50%;\n",
              "      cursor: pointer;\n",
              "      display: none;\n",
              "      fill: #1967D2;\n",
              "      height: 32px;\n",
              "      padding: 0 0 0 0;\n",
              "      width: 32px;\n",
              "    }\n",
              "\n",
              "    .colab-df-convert:hover {\n",
              "      background-color: #E2EBFA;\n",
              "      box-shadow: 0px 1px 2px rgba(60, 64, 67, 0.3), 0px 1px 3px 1px rgba(60, 64, 67, 0.15);\n",
              "      fill: #174EA6;\n",
              "    }\n",
              "\n",
              "    .colab-df-buttons div {\n",
              "      margin-bottom: 4px;\n",
              "    }\n",
              "\n",
              "    [theme=dark] .colab-df-convert {\n",
              "      background-color: #3B4455;\n",
              "      fill: #D2E3FC;\n",
              "    }\n",
              "\n",
              "    [theme=dark] .colab-df-convert:hover {\n",
              "      background-color: #434B5C;\n",
              "      box-shadow: 0px 1px 3px 1px rgba(0, 0, 0, 0.15);\n",
              "      filter: drop-shadow(0px 1px 2px rgba(0, 0, 0, 0.3));\n",
              "      fill: #FFFFFF;\n",
              "    }\n",
              "  </style>\n",
              "\n",
              "    <script>\n",
              "      const buttonEl =\n",
              "        document.querySelector('#df-aa2bf1fe-517c-4997-8217-f07d1bff626a button.colab-df-convert');\n",
              "      buttonEl.style.display =\n",
              "        google.colab.kernel.accessAllowed ? 'block' : 'none';\n",
              "\n",
              "      async function convertToInteractive(key) {\n",
              "        const element = document.querySelector('#df-aa2bf1fe-517c-4997-8217-f07d1bff626a');\n",
              "        const dataTable =\n",
              "          await google.colab.kernel.invokeFunction('convertToInteractive',\n",
              "                                                    [key], {});\n",
              "        if (!dataTable) return;\n",
              "\n",
              "        const docLinkHtml = 'Like what you see? Visit the ' +\n",
              "          '<a target=\"_blank\" href=https://colab.research.google.com/notebooks/data_table.ipynb>data table notebook</a>'\n",
              "          + ' to learn more about interactive tables.';\n",
              "        element.innerHTML = '';\n",
              "        dataTable['output_type'] = 'display_data';\n",
              "        await google.colab.output.renderOutput(dataTable, element);\n",
              "        const docLink = document.createElement('div');\n",
              "        docLink.innerHTML = docLinkHtml;\n",
              "        element.appendChild(docLink);\n",
              "      }\n",
              "    </script>\n",
              "  </div>\n",
              "\n",
              "\n",
              "    <div id=\"df-f633e37a-5b86-4e09-a5f2-b8acad870219\">\n",
              "      <button class=\"colab-df-quickchart\" onclick=\"quickchart('df-f633e37a-5b86-4e09-a5f2-b8acad870219')\"\n",
              "                title=\"Suggest charts\"\n",
              "                style=\"display:none;\">\n",
              "\n",
              "<svg xmlns=\"http://www.w3.org/2000/svg\" height=\"24px\"viewBox=\"0 0 24 24\"\n",
              "     width=\"24px\">\n",
              "    <g>\n",
              "        <path d=\"M19 3H5c-1.1 0-2 .9-2 2v14c0 1.1.9 2 2 2h14c1.1 0 2-.9 2-2V5c0-1.1-.9-2-2-2zM9 17H7v-7h2v7zm4 0h-2V7h2v10zm4 0h-2v-4h2v4z\"/>\n",
              "    </g>\n",
              "</svg>\n",
              "      </button>\n",
              "\n",
              "<style>\n",
              "  .colab-df-quickchart {\n",
              "      --bg-color: #E8F0FE;\n",
              "      --fill-color: #1967D2;\n",
              "      --hover-bg-color: #E2EBFA;\n",
              "      --hover-fill-color: #174EA6;\n",
              "      --disabled-fill-color: #AAA;\n",
              "      --disabled-bg-color: #DDD;\n",
              "  }\n",
              "\n",
              "  [theme=dark] .colab-df-quickchart {\n",
              "      --bg-color: #3B4455;\n",
              "      --fill-color: #D2E3FC;\n",
              "      --hover-bg-color: #434B5C;\n",
              "      --hover-fill-color: #FFFFFF;\n",
              "      --disabled-bg-color: #3B4455;\n",
              "      --disabled-fill-color: #666;\n",
              "  }\n",
              "\n",
              "  .colab-df-quickchart {\n",
              "    background-color: var(--bg-color);\n",
              "    border: none;\n",
              "    border-radius: 50%;\n",
              "    cursor: pointer;\n",
              "    display: none;\n",
              "    fill: var(--fill-color);\n",
              "    height: 32px;\n",
              "    padding: 0;\n",
              "    width: 32px;\n",
              "  }\n",
              "\n",
              "  .colab-df-quickchart:hover {\n",
              "    background-color: var(--hover-bg-color);\n",
              "    box-shadow: 0 1px 2px rgba(60, 64, 67, 0.3), 0 1px 3px 1px rgba(60, 64, 67, 0.15);\n",
              "    fill: var(--button-hover-fill-color);\n",
              "  }\n",
              "\n",
              "  .colab-df-quickchart-complete:disabled,\n",
              "  .colab-df-quickchart-complete:disabled:hover {\n",
              "    background-color: var(--disabled-bg-color);\n",
              "    fill: var(--disabled-fill-color);\n",
              "    box-shadow: none;\n",
              "  }\n",
              "\n",
              "  .colab-df-spinner {\n",
              "    border: 2px solid var(--fill-color);\n",
              "    border-color: transparent;\n",
              "    border-bottom-color: var(--fill-color);\n",
              "    animation:\n",
              "      spin 1s steps(1) infinite;\n",
              "  }\n",
              "\n",
              "  @keyframes spin {\n",
              "    0% {\n",
              "      border-color: transparent;\n",
              "      border-bottom-color: var(--fill-color);\n",
              "      border-left-color: var(--fill-color);\n",
              "    }\n",
              "    20% {\n",
              "      border-color: transparent;\n",
              "      border-left-color: var(--fill-color);\n",
              "      border-top-color: var(--fill-color);\n",
              "    }\n",
              "    30% {\n",
              "      border-color: transparent;\n",
              "      border-left-color: var(--fill-color);\n",
              "      border-top-color: var(--fill-color);\n",
              "      border-right-color: var(--fill-color);\n",
              "    }\n",
              "    40% {\n",
              "      border-color: transparent;\n",
              "      border-right-color: var(--fill-color);\n",
              "      border-top-color: var(--fill-color);\n",
              "    }\n",
              "    60% {\n",
              "      border-color: transparent;\n",
              "      border-right-color: var(--fill-color);\n",
              "    }\n",
              "    80% {\n",
              "      border-color: transparent;\n",
              "      border-right-color: var(--fill-color);\n",
              "      border-bottom-color: var(--fill-color);\n",
              "    }\n",
              "    90% {\n",
              "      border-color: transparent;\n",
              "      border-bottom-color: var(--fill-color);\n",
              "    }\n",
              "  }\n",
              "</style>\n",
              "\n",
              "      <script>\n",
              "        async function quickchart(key) {\n",
              "          const quickchartButtonEl =\n",
              "            document.querySelector('#' + key + ' button');\n",
              "          quickchartButtonEl.disabled = true;  // To prevent multiple clicks.\n",
              "          quickchartButtonEl.classList.add('colab-df-spinner');\n",
              "          try {\n",
              "            const charts = await google.colab.kernel.invokeFunction(\n",
              "                'suggestCharts', [key], {});\n",
              "          } catch (error) {\n",
              "            console.error('Error during call to suggestCharts:', error);\n",
              "          }\n",
              "          quickchartButtonEl.classList.remove('colab-df-spinner');\n",
              "          quickchartButtonEl.classList.add('colab-df-quickchart-complete');\n",
              "        }\n",
              "        (() => {\n",
              "          let quickchartButtonEl =\n",
              "            document.querySelector('#df-f633e37a-5b86-4e09-a5f2-b8acad870219 button');\n",
              "          quickchartButtonEl.style.display =\n",
              "            google.colab.kernel.accessAllowed ? 'block' : 'none';\n",
              "        })();\n",
              "      </script>\n",
              "    </div>\n",
              "    </div>\n",
              "  </div>\n"
            ],
            "application/vnd.google.colaboratory.intrinsic+json": {
              "type": "dataframe",
              "variable_name": "importance_df",
              "summary": "{\n  \"name\": \"importance_df\",\n  \"rows\": 116,\n  \"fields\": [\n    {\n      \"column\": \"feature\",\n      \"properties\": {\n        \"dtype\": \"string\",\n        \"num_unique_values\": 116,\n        \"samples\": [\n          \"\\u0442\\u0435\\u043a\\u0443\\u0449\\u0438\\u0439_\\u0431\\u0430\\u043b\\u0430\\u043d\\u0441_\\u043f\\u043e_\\u0430\\u043d\\u043d\\u0443\\u0438\\u0442\\u0435\\u0442\\u043d\\u044b\\u043c_\\u0441\\u0447\\u0435\\u0442\\u0430\\u043c\",\n          \"\\u0440\\u0435\\u0439\\u0442\\u0438\\u043d\\u0433\",\n          \"\\u043b\\u0438\\u043c\\u0438\\u0442_\\u043a\\u0430\\u0440\\u0442_\\u043a_\\u0434\\u043e\\u0445\\u043e\\u0434\\u0443\"\n        ],\n        \"semantic_type\": \"\",\n        \"description\": \"\"\n      }\n    },\n    {\n      \"column\": \"importance\",\n      \"properties\": {\n        \"dtype\": \"number\",\n        \"std\": 1.50449272776275,\n        \"min\": 0.0,\n        \"max\": 11.359203865215946,\n        \"num_unique_values\": 110,\n        \"samples\": [\n          0.19807926589811467,\n          2.4518342813403073,\n          3.713082075157899\n        ],\n        \"semantic_type\": \"\",\n        \"description\": \"\"\n      }\n    }\n  ]\n}"
            }
          },
          "metadata": {},
          "execution_count": 9
        }
      ],
      "source": [
        "importance_df.head(20)"
      ]
    },
    {
      "cell_type": "markdown",
      "source": [
        "Удаляем признаки с низкой важностью"
      ],
      "metadata": {
        "id": "-cZF8d7hKE9Y"
      }
    },
    {
      "cell_type": "code",
      "source": [
        "threshold = 0.01\n",
        "\n",
        "features_to_keep = importance_df[importance_df['importance'] >= threshold]['feature'].tolist()"
      ],
      "metadata": {
        "id": "Wb5rpsw3IE04"
      },
      "execution_count": null,
      "outputs": []
    },
    {
      "cell_type": "code",
      "source": [
        "X = X[features_to_keep]"
      ],
      "metadata": {
        "id": "lfuBQFIJKGD9"
      },
      "execution_count": null,
      "outputs": []
    },
    {
      "cell_type": "code",
      "source": [
        "kf = StratifiedKFold(n_splits=5, shuffle=True, random_state=42)\n",
        "models = []\n",
        "oof_preds = np.zeros(len(X))\n",
        "cat_features = X.select_dtypes(include='object').columns.tolist()\n",
        "\n",
        "# Заполняем пропуски в категориальных признаках\n",
        "for col in cat_features:\n",
        "    if col in X.columns:\n",
        "        X[col] = X[col].fillna('nan').astype(str)\n",
        "\n",
        "for train_idx, val_idx in kf.split(X, y):\n",
        "    X_train, X_val = X.iloc[train_idx], X.iloc[val_idx]\n",
        "    y_train, y_val = y.iloc[train_idx], y.iloc[val_idx]\n",
        "\n",
        "    model = CatBoostClassifier(\n",
        "        iterations=500,\n",
        "        learning_rate=0.1,\n",
        "        depth=8,\n",
        "        l2_leaf_reg=3.0,\n",
        "        random_strength=0.1,\n",
        "        eval_metric='AUC',\n",
        "        early_stopping_rounds=50,\n",
        "        verbose=200,\n",
        "        random_state=42,\n",
        "        cat_features=cat_features,\n",
        "        task_type='GPU'\n",
        "    )\n",
        "\n",
        "    model.fit(X_train, y_train, eval_set=(X_val, y_val), use_best_model=True)\n",
        "    val_pred = model.predict_proba(X_val)[:, 1]\n",
        "    oof_preds[val_idx] = val_pred\n",
        "\n",
        "    models.append(model)\n",
        "\n",
        "print(f\"Validation OOF AUC: {roc_auc_score(y, oof_preds):.4f}\")"
      ],
      "metadata": {
        "colab": {
          "base_uri": "https://localhost:8080/"
        },
        "id": "z0M_5cq0KNIO",
        "outputId": "4c50f990-a136-4d1a-fd1e-393b016e7f12"
      },
      "execution_count": null,
      "outputs": [
        {
          "output_type": "stream",
          "name": "stderr",
          "text": [
            "Default metric period is 5 because AUC is/are not implemented for GPU\n"
          ]
        },
        {
          "output_type": "stream",
          "name": "stdout",
          "text": [
            "0:\ttest: 0.7300094\tbest: 0.7300094 (0)\ttotal: 287ms\tremaining: 2m 23s\n",
            "200:\ttest: 0.7608136\tbest: 0.7608136 (200)\ttotal: 56.1s\tremaining: 1m 23s\n",
            "400:\ttest: 0.7647470\tbest: 0.7647470 (400)\ttotal: 1m 49s\tremaining: 27s\n",
            "499:\ttest: 0.7655801\tbest: 0.7655801 (499)\ttotal: 2m 15s\tremaining: 0us\n",
            "bestTest = 0.7655801475\n",
            "bestIteration = 499\n"
          ]
        },
        {
          "output_type": "stream",
          "name": "stderr",
          "text": [
            "Default metric period is 5 because AUC is/are not implemented for GPU\n"
          ]
        },
        {
          "output_type": "stream",
          "name": "stdout",
          "text": [
            "0:\ttest: 0.7303998\tbest: 0.7303998 (0)\ttotal: 392ms\tremaining: 3m 15s\n",
            "200:\ttest: 0.7612983\tbest: 0.7612983 (200)\ttotal: 53.5s\tremaining: 1m 19s\n",
            "400:\ttest: 0.7643830\tbest: 0.7643830 (400)\ttotal: 1m 45s\tremaining: 26s\n",
            "499:\ttest: 0.7655399\tbest: 0.7655399 (499)\ttotal: 2m 11s\tremaining: 0us\n",
            "bestTest = 0.7655398846\n",
            "bestIteration = 499\n"
          ]
        },
        {
          "output_type": "stream",
          "name": "stderr",
          "text": [
            "Default metric period is 5 because AUC is/are not implemented for GPU\n"
          ]
        },
        {
          "output_type": "stream",
          "name": "stdout",
          "text": [
            "0:\ttest: 0.7300300\tbest: 0.7300300 (0)\ttotal: 281ms\tremaining: 2m 19s\n",
            "200:\ttest: 0.7632817\tbest: 0.7632817 (200)\ttotal: 53.9s\tremaining: 1m 20s\n",
            "400:\ttest: 0.7666446\tbest: 0.7666462 (399)\ttotal: 1m 46s\tremaining: 26.3s\n",
            "499:\ttest: 0.7672121\tbest: 0.7672121 (499)\ttotal: 2m 12s\tremaining: 0us\n",
            "bestTest = 0.7672121227\n",
            "bestIteration = 499\n"
          ]
        },
        {
          "output_type": "stream",
          "name": "stderr",
          "text": [
            "Default metric period is 5 because AUC is/are not implemented for GPU\n"
          ]
        },
        {
          "output_type": "stream",
          "name": "stdout",
          "text": [
            "0:\ttest: 0.7277080\tbest: 0.7277080 (0)\ttotal: 456ms\tremaining: 3m 47s\n",
            "200:\ttest: 0.7611558\tbest: 0.7611558 (200)\ttotal: 53.6s\tremaining: 1m 19s\n",
            "400:\ttest: 0.7645883\tbest: 0.7645883 (400)\ttotal: 1m 46s\tremaining: 26.2s\n",
            "499:\ttest: 0.7651131\tbest: 0.7651168 (497)\ttotal: 2m 12s\tremaining: 0us\n",
            "bestTest = 0.7651168406\n",
            "bestIteration = 497\n",
            "Shrink model to first 498 iterations.\n"
          ]
        },
        {
          "output_type": "stream",
          "name": "stderr",
          "text": [
            "Default metric period is 5 because AUC is/are not implemented for GPU\n"
          ]
        },
        {
          "output_type": "stream",
          "name": "stdout",
          "text": [
            "0:\ttest: 0.7257990\tbest: 0.7257990 (0)\ttotal: 308ms\tremaining: 2m 33s\n",
            "200:\ttest: 0.7624089\tbest: 0.7624089 (200)\ttotal: 51.8s\tremaining: 1m 17s\n",
            "400:\ttest: 0.7656496\tbest: 0.7656496 (400)\ttotal: 1m 44s\tremaining: 25.7s\n",
            "499:\ttest: 0.7665180\tbest: 0.7665180 (499)\ttotal: 2m 9s\tremaining: 0us\n",
            "bestTest = 0.7665179968\n",
            "bestIteration = 499\n",
            "Validation OOF AUC: 0.7660\n"
          ]
        }
      ]
    }
  ],
  "metadata": {
    "accelerator": "GPU",
    "colab": {
      "gpuType": "T4",
      "provenance": [],
      "toc_visible": true,
      "mount_file_id": "1pOxDUZM1AvWVEfDtmm3IglTm8CFKH6U0",
      "authorship_tag": "ABX9TyNQsfkt3PSIAjBnKdKNECcG",
      "include_colab_link": true
    },
    "kernelspec": {
      "display_name": "Python 3",
      "name": "python3"
    },
    "language_info": {
      "name": "python"
    }
  },
  "nbformat": 4,
  "nbformat_minor": 0
}