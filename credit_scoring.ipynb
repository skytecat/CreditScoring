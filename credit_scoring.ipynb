{
  "cells": [
    {
      "cell_type": "markdown",
      "metadata": {
        "id": "view-in-github",
        "colab_type": "text"
      },
      "source": [
        "<a href=\"https://colab.research.google.com/github/skytecat/CreditScoring/blob/main/credit_scoring.ipynb\" target=\"_parent\"><img src=\"https://colab.research.google.com/assets/colab-badge.svg\" alt=\"Open In Colab\"/></a>"
      ]
    },
    {
      "cell_type": "markdown",
      "metadata": {
        "id": "5ZwT9VESEkff"
      },
      "source": [
        "## Загрузка библиотек"
      ]
    },
    {
      "cell_type": "code",
      "execution_count": 1,
      "metadata": {
        "colab": {
          "base_uri": "https://localhost:8080/"
        },
        "id": "KMjQIgEpTFtm",
        "outputId": "8bfaef1b-b198-4c7b-be8a-d169038813c4"
      },
      "outputs": [
        {
          "output_type": "stream",
          "name": "stdout",
          "text": [
            "Collecting catboost\n",
            "  Downloading catboost-1.2.8-cp312-cp312-manylinux2014_x86_64.whl.metadata (1.2 kB)\n",
            "Requirement already satisfied: graphviz in /usr/local/lib/python3.12/dist-packages (from catboost) (0.21)\n",
            "Requirement already satisfied: matplotlib in /usr/local/lib/python3.12/dist-packages (from catboost) (3.10.0)\n",
            "Requirement already satisfied: numpy<3.0,>=1.16.0 in /usr/local/lib/python3.12/dist-packages (from catboost) (2.0.2)\n",
            "Requirement already satisfied: pandas>=0.24 in /usr/local/lib/python3.12/dist-packages (from catboost) (2.2.2)\n",
            "Requirement already satisfied: scipy in /usr/local/lib/python3.12/dist-packages (from catboost) (1.16.1)\n",
            "Requirement already satisfied: plotly in /usr/local/lib/python3.12/dist-packages (from catboost) (5.24.1)\n",
            "Requirement already satisfied: six in /usr/local/lib/python3.12/dist-packages (from catboost) (1.17.0)\n",
            "Requirement already satisfied: python-dateutil>=2.8.2 in /usr/local/lib/python3.12/dist-packages (from pandas>=0.24->catboost) (2.9.0.post0)\n",
            "Requirement already satisfied: pytz>=2020.1 in /usr/local/lib/python3.12/dist-packages (from pandas>=0.24->catboost) (2025.2)\n",
            "Requirement already satisfied: tzdata>=2022.7 in /usr/local/lib/python3.12/dist-packages (from pandas>=0.24->catboost) (2025.2)\n",
            "Requirement already satisfied: contourpy>=1.0.1 in /usr/local/lib/python3.12/dist-packages (from matplotlib->catboost) (1.3.3)\n",
            "Requirement already satisfied: cycler>=0.10 in /usr/local/lib/python3.12/dist-packages (from matplotlib->catboost) (0.12.1)\n",
            "Requirement already satisfied: fonttools>=4.22.0 in /usr/local/lib/python3.12/dist-packages (from matplotlib->catboost) (4.59.1)\n",
            "Requirement already satisfied: kiwisolver>=1.3.1 in /usr/local/lib/python3.12/dist-packages (from matplotlib->catboost) (1.4.9)\n",
            "Requirement already satisfied: packaging>=20.0 in /usr/local/lib/python3.12/dist-packages (from matplotlib->catboost) (25.0)\n",
            "Requirement already satisfied: pillow>=8 in /usr/local/lib/python3.12/dist-packages (from matplotlib->catboost) (11.3.0)\n",
            "Requirement already satisfied: pyparsing>=2.3.1 in /usr/local/lib/python3.12/dist-packages (from matplotlib->catboost) (3.2.3)\n",
            "Requirement already satisfied: tenacity>=6.2.0 in /usr/local/lib/python3.12/dist-packages (from plotly->catboost) (8.5.0)\n",
            "Downloading catboost-1.2.8-cp312-cp312-manylinux2014_x86_64.whl (99.2 MB)\n",
            "\u001b[2K   \u001b[90m━━━━━━━━━━━━━━━━━━━━━━━━━━━━━━━━━━━━━━━━\u001b[0m \u001b[32m99.2/99.2 MB\u001b[0m \u001b[31m9.0 MB/s\u001b[0m eta \u001b[36m0:00:00\u001b[0m\n",
            "\u001b[?25hInstalling collected packages: catboost\n",
            "Successfully installed catboost-1.2.8\n"
          ]
        }
      ],
      "source": [
        "# Установка необходимых библиотек\n",
        "!pip install catboost\n",
        "# !pip install optuna\n",
        "\n",
        "# Импорт библиотек\n",
        "import numpy as np\n",
        "import pandas as pd\n",
        "from catboost import CatBoostClassifier\n",
        "from sklearn.model_selection import StratifiedKFold, train_test_split\n",
        "from sklearn.metrics import roc_auc_score\n",
        "from sklearn.linear_model import LogisticRegression\n",
        "from sklearn.preprocessing import StandardScaler\n",
        "# import optuna"
      ]
    },
    {
      "cell_type": "markdown",
      "metadata": {
        "id": "K7vwPflK9v-I"
      },
      "source": [
        "## Загрузка данных"
      ]
    },
    {
      "cell_type": "code",
      "execution_count": 12,
      "metadata": {
        "colab": {
          "base_uri": "https://localhost:8080/"
        },
        "id": "I2oMIqTA-dCc",
        "outputId": "7386b9a3-4ea9-45b1-f385-ff41fcf13f65"
      },
      "outputs": [
        {
          "output_type": "stream",
          "name": "stderr",
          "text": [
            "/tmp/ipython-input-806522538.py:2: DtypeWarning: Columns (49) have mixed types. Specify dtype option on import or set low_memory=False.\n",
            "  full_data = pd.read_csv(\"/content/drive/MyDrive/SHIFT_ML_2025_COMPETITION/shift_ml_2025_train.csv\")\n"
          ]
        }
      ],
      "source": [
        "# Загрузка данных\n",
        "full_data = pd.read_csv(\"/content/drive/MyDrive/SHIFT_ML_2025_COMPETITION/shift_ml_2025_train.csv\")\n",
        "\n",
        "# Разделение на признаки и целевую переменную\n",
        "X = full_data.drop(['итоговый_статус_займа'], axis=1)\n",
        "y = full_data['итоговый_статус_займа']"
      ]
    },
    {
      "cell_type": "markdown",
      "metadata": {
        "id": "COS82lXxE0Vs"
      },
      "source": [
        "## Первичный анализ"
      ]
    },
    {
      "cell_type": "code",
      "execution_count": 13,
      "metadata": {
        "colab": {
          "base_uri": "https://localhost:8080/",
          "height": 377
        },
        "id": "_BS8sMlZ_dR5",
        "outputId": "4e687e8c-270a-4769-ecd2-a2bac5a4a3d5"
      },
      "outputs": [
        {
          "output_type": "execute_result",
          "data": {
            "text/plain": [
              "         id  сумма_займа срок_займа  процентная_ставка  аннуитет рейтинг  \\\n",
              "0  68355089    1235000.0     3 года              11.99   41014.0       В   \n",
              "1  68341763    1000000.0      5 лет              10.78   21633.0       Б   \n",
              "2  68426831     597500.0     3 года              13.44   20259.0       В   \n",
              "3  68476668    1000000.0     3 года               9.17   31879.0       Б   \n",
              "4  67275481    1000000.0     3 года               8.49   31563.0       Б   \n",
              "\n",
              "  допрейтинг                           профессия_заемщика     стаж  \\\n",
              "0         В1                                      инженер  10+ лет   \n",
              "1         Б4                           водитель грузовика  10+ лет   \n",
              "2         В3                          ветеринарный техник   4 года   \n",
              "3         Б2  вице-президент операций по набору персонала  10+ лет   \n",
              "4         Б1                           дорожному водителю  10+ лет   \n",
              "\n",
              "  владение_жильем  ...  процент_счетов_прев_75_лимита кол-во_публ_банкротств  \\\n",
              "0         ИПОТЕКА  ...                            7.7                    0.0   \n",
              "1         ИПОТЕКА  ...                           50.0                    0.0   \n",
              "2          АРЕНДА  ...                          100.0                    0.0   \n",
              "3         ИПОТЕКА  ...                          100.0                    0.0   \n",
              "4         ИПОТЕКА  ...                            0.0                    0.0   \n",
              "\n",
              "   кол-во_залогов кредитный_лимит  кредитный_баланс_без_ипотеки  \\\n",
              "0             0.0      15700850.0                     1973750.0   \n",
              "1             0.0      10920900.0                      934800.0   \n",
              "2             0.0        845000.0                      639900.0   \n",
              "3             0.0      19442600.0                     5838100.0   \n",
              "4             0.0       9669500.0                     1396850.0   \n",
              "\n",
              "  лимит_по_картам  лимит_по_аннуитетным_счетам  \\\n",
              "0       3965000.0                    1233350.0   \n",
              "1        310000.0                     743850.0   \n",
              "2        470000.0                     200000.0   \n",
              "3       1575000.0                    2322600.0   \n",
              "4        725000.0                    1807200.0   \n",
              "\n",
              "   кредитный_баланс_по_возоб_счетам особая_ситуация  \\\n",
              "0                               NaN             Нет   \n",
              "1                               NaN             Нет   \n",
              "2                               NaN             Нет   \n",
              "3                               NaN             Нет   \n",
              "4                               NaN             Нет   \n",
              "\n",
              "   тип_предоставления_кредита  \n",
              "0                    Наличные  \n",
              "1                    Наличные  \n",
              "2                    Наличные  \n",
              "3                    Наличные  \n",
              "4                    Наличные  \n",
              "\n",
              "[5 rows x 108 columns]"
            ],
            "text/html": [
              "\n",
              "  <div id=\"df-5155beab-048d-4588-b1f1-fff8cf8e7fcd\" class=\"colab-df-container\">\n",
              "    <div>\n",
              "<style scoped>\n",
              "    .dataframe tbody tr th:only-of-type {\n",
              "        vertical-align: middle;\n",
              "    }\n",
              "\n",
              "    .dataframe tbody tr th {\n",
              "        vertical-align: top;\n",
              "    }\n",
              "\n",
              "    .dataframe thead th {\n",
              "        text-align: right;\n",
              "    }\n",
              "</style>\n",
              "<table border=\"1\" class=\"dataframe\">\n",
              "  <thead>\n",
              "    <tr style=\"text-align: right;\">\n",
              "      <th></th>\n",
              "      <th>id</th>\n",
              "      <th>сумма_займа</th>\n",
              "      <th>срок_займа</th>\n",
              "      <th>процентная_ставка</th>\n",
              "      <th>аннуитет</th>\n",
              "      <th>рейтинг</th>\n",
              "      <th>допрейтинг</th>\n",
              "      <th>профессия_заемщика</th>\n",
              "      <th>стаж</th>\n",
              "      <th>владение_жильем</th>\n",
              "      <th>...</th>\n",
              "      <th>процент_счетов_прев_75_лимита</th>\n",
              "      <th>кол-во_публ_банкротств</th>\n",
              "      <th>кол-во_залогов</th>\n",
              "      <th>кредитный_лимит</th>\n",
              "      <th>кредитный_баланс_без_ипотеки</th>\n",
              "      <th>лимит_по_картам</th>\n",
              "      <th>лимит_по_аннуитетным_счетам</th>\n",
              "      <th>кредитный_баланс_по_возоб_счетам</th>\n",
              "      <th>особая_ситуация</th>\n",
              "      <th>тип_предоставления_кредита</th>\n",
              "    </tr>\n",
              "  </thead>\n",
              "  <tbody>\n",
              "    <tr>\n",
              "      <th>0</th>\n",
              "      <td>68355089</td>\n",
              "      <td>1235000.0</td>\n",
              "      <td>3 года</td>\n",
              "      <td>11.99</td>\n",
              "      <td>41014.0</td>\n",
              "      <td>В</td>\n",
              "      <td>В1</td>\n",
              "      <td>инженер</td>\n",
              "      <td>10+ лет</td>\n",
              "      <td>ИПОТЕКА</td>\n",
              "      <td>...</td>\n",
              "      <td>7.7</td>\n",
              "      <td>0.0</td>\n",
              "      <td>0.0</td>\n",
              "      <td>15700850.0</td>\n",
              "      <td>1973750.0</td>\n",
              "      <td>3965000.0</td>\n",
              "      <td>1233350.0</td>\n",
              "      <td>NaN</td>\n",
              "      <td>Нет</td>\n",
              "      <td>Наличные</td>\n",
              "    </tr>\n",
              "    <tr>\n",
              "      <th>1</th>\n",
              "      <td>68341763</td>\n",
              "      <td>1000000.0</td>\n",
              "      <td>5 лет</td>\n",
              "      <td>10.78</td>\n",
              "      <td>21633.0</td>\n",
              "      <td>Б</td>\n",
              "      <td>Б4</td>\n",
              "      <td>водитель грузовика</td>\n",
              "      <td>10+ лет</td>\n",
              "      <td>ИПОТЕКА</td>\n",
              "      <td>...</td>\n",
              "      <td>50.0</td>\n",
              "      <td>0.0</td>\n",
              "      <td>0.0</td>\n",
              "      <td>10920900.0</td>\n",
              "      <td>934800.0</td>\n",
              "      <td>310000.0</td>\n",
              "      <td>743850.0</td>\n",
              "      <td>NaN</td>\n",
              "      <td>Нет</td>\n",
              "      <td>Наличные</td>\n",
              "    </tr>\n",
              "    <tr>\n",
              "      <th>2</th>\n",
              "      <td>68426831</td>\n",
              "      <td>597500.0</td>\n",
              "      <td>3 года</td>\n",
              "      <td>13.44</td>\n",
              "      <td>20259.0</td>\n",
              "      <td>В</td>\n",
              "      <td>В3</td>\n",
              "      <td>ветеринарный техник</td>\n",
              "      <td>4 года</td>\n",
              "      <td>АРЕНДА</td>\n",
              "      <td>...</td>\n",
              "      <td>100.0</td>\n",
              "      <td>0.0</td>\n",
              "      <td>0.0</td>\n",
              "      <td>845000.0</td>\n",
              "      <td>639900.0</td>\n",
              "      <td>470000.0</td>\n",
              "      <td>200000.0</td>\n",
              "      <td>NaN</td>\n",
              "      <td>Нет</td>\n",
              "      <td>Наличные</td>\n",
              "    </tr>\n",
              "    <tr>\n",
              "      <th>3</th>\n",
              "      <td>68476668</td>\n",
              "      <td>1000000.0</td>\n",
              "      <td>3 года</td>\n",
              "      <td>9.17</td>\n",
              "      <td>31879.0</td>\n",
              "      <td>Б</td>\n",
              "      <td>Б2</td>\n",
              "      <td>вице-президент операций по набору персонала</td>\n",
              "      <td>10+ лет</td>\n",
              "      <td>ИПОТЕКА</td>\n",
              "      <td>...</td>\n",
              "      <td>100.0</td>\n",
              "      <td>0.0</td>\n",
              "      <td>0.0</td>\n",
              "      <td>19442600.0</td>\n",
              "      <td>5838100.0</td>\n",
              "      <td>1575000.0</td>\n",
              "      <td>2322600.0</td>\n",
              "      <td>NaN</td>\n",
              "      <td>Нет</td>\n",
              "      <td>Наличные</td>\n",
              "    </tr>\n",
              "    <tr>\n",
              "      <th>4</th>\n",
              "      <td>67275481</td>\n",
              "      <td>1000000.0</td>\n",
              "      <td>3 года</td>\n",
              "      <td>8.49</td>\n",
              "      <td>31563.0</td>\n",
              "      <td>Б</td>\n",
              "      <td>Б1</td>\n",
              "      <td>дорожному водителю</td>\n",
              "      <td>10+ лет</td>\n",
              "      <td>ИПОТЕКА</td>\n",
              "      <td>...</td>\n",
              "      <td>0.0</td>\n",
              "      <td>0.0</td>\n",
              "      <td>0.0</td>\n",
              "      <td>9669500.0</td>\n",
              "      <td>1396850.0</td>\n",
              "      <td>725000.0</td>\n",
              "      <td>1807200.0</td>\n",
              "      <td>NaN</td>\n",
              "      <td>Нет</td>\n",
              "      <td>Наличные</td>\n",
              "    </tr>\n",
              "  </tbody>\n",
              "</table>\n",
              "<p>5 rows × 108 columns</p>\n",
              "</div>\n",
              "    <div class=\"colab-df-buttons\">\n",
              "\n",
              "  <div class=\"colab-df-container\">\n",
              "    <button class=\"colab-df-convert\" onclick=\"convertToInteractive('df-5155beab-048d-4588-b1f1-fff8cf8e7fcd')\"\n",
              "            title=\"Convert this dataframe to an interactive table.\"\n",
              "            style=\"display:none;\">\n",
              "\n",
              "  <svg xmlns=\"http://www.w3.org/2000/svg\" height=\"24px\" viewBox=\"0 -960 960 960\">\n",
              "    <path d=\"M120-120v-720h720v720H120Zm60-500h600v-160H180v160Zm220 220h160v-160H400v160Zm0 220h160v-160H400v160ZM180-400h160v-160H180v160Zm440 0h160v-160H620v160ZM180-180h160v-160H180v160Zm440 0h160v-160H620v160Z\"/>\n",
              "  </svg>\n",
              "    </button>\n",
              "\n",
              "  <style>\n",
              "    .colab-df-container {\n",
              "      display:flex;\n",
              "      gap: 12px;\n",
              "    }\n",
              "\n",
              "    .colab-df-convert {\n",
              "      background-color: #E8F0FE;\n",
              "      border: none;\n",
              "      border-radius: 50%;\n",
              "      cursor: pointer;\n",
              "      display: none;\n",
              "      fill: #1967D2;\n",
              "      height: 32px;\n",
              "      padding: 0 0 0 0;\n",
              "      width: 32px;\n",
              "    }\n",
              "\n",
              "    .colab-df-convert:hover {\n",
              "      background-color: #E2EBFA;\n",
              "      box-shadow: 0px 1px 2px rgba(60, 64, 67, 0.3), 0px 1px 3px 1px rgba(60, 64, 67, 0.15);\n",
              "      fill: #174EA6;\n",
              "    }\n",
              "\n",
              "    .colab-df-buttons div {\n",
              "      margin-bottom: 4px;\n",
              "    }\n",
              "\n",
              "    [theme=dark] .colab-df-convert {\n",
              "      background-color: #3B4455;\n",
              "      fill: #D2E3FC;\n",
              "    }\n",
              "\n",
              "    [theme=dark] .colab-df-convert:hover {\n",
              "      background-color: #434B5C;\n",
              "      box-shadow: 0px 1px 3px 1px rgba(0, 0, 0, 0.15);\n",
              "      filter: drop-shadow(0px 1px 2px rgba(0, 0, 0, 0.3));\n",
              "      fill: #FFFFFF;\n",
              "    }\n",
              "  </style>\n",
              "\n",
              "    <script>\n",
              "      const buttonEl =\n",
              "        document.querySelector('#df-5155beab-048d-4588-b1f1-fff8cf8e7fcd button.colab-df-convert');\n",
              "      buttonEl.style.display =\n",
              "        google.colab.kernel.accessAllowed ? 'block' : 'none';\n",
              "\n",
              "      async function convertToInteractive(key) {\n",
              "        const element = document.querySelector('#df-5155beab-048d-4588-b1f1-fff8cf8e7fcd');\n",
              "        const dataTable =\n",
              "          await google.colab.kernel.invokeFunction('convertToInteractive',\n",
              "                                                    [key], {});\n",
              "        if (!dataTable) return;\n",
              "\n",
              "        const docLinkHtml = 'Like what you see? Visit the ' +\n",
              "          '<a target=\"_blank\" href=https://colab.research.google.com/notebooks/data_table.ipynb>data table notebook</a>'\n",
              "          + ' to learn more about interactive tables.';\n",
              "        element.innerHTML = '';\n",
              "        dataTable['output_type'] = 'display_data';\n",
              "        await google.colab.output.renderOutput(dataTable, element);\n",
              "        const docLink = document.createElement('div');\n",
              "        docLink.innerHTML = docLinkHtml;\n",
              "        element.appendChild(docLink);\n",
              "      }\n",
              "    </script>\n",
              "  </div>\n",
              "\n",
              "\n",
              "    <div id=\"df-e03c85fb-4388-4397-9c74-ae11ad6ab8d1\">\n",
              "      <button class=\"colab-df-quickchart\" onclick=\"quickchart('df-e03c85fb-4388-4397-9c74-ae11ad6ab8d1')\"\n",
              "                title=\"Suggest charts\"\n",
              "                style=\"display:none;\">\n",
              "\n",
              "<svg xmlns=\"http://www.w3.org/2000/svg\" height=\"24px\"viewBox=\"0 0 24 24\"\n",
              "     width=\"24px\">\n",
              "    <g>\n",
              "        <path d=\"M19 3H5c-1.1 0-2 .9-2 2v14c0 1.1.9 2 2 2h14c1.1 0 2-.9 2-2V5c0-1.1-.9-2-2-2zM9 17H7v-7h2v7zm4 0h-2V7h2v10zm4 0h-2v-4h2v4z\"/>\n",
              "    </g>\n",
              "</svg>\n",
              "      </button>\n",
              "\n",
              "<style>\n",
              "  .colab-df-quickchart {\n",
              "      --bg-color: #E8F0FE;\n",
              "      --fill-color: #1967D2;\n",
              "      --hover-bg-color: #E2EBFA;\n",
              "      --hover-fill-color: #174EA6;\n",
              "      --disabled-fill-color: #AAA;\n",
              "      --disabled-bg-color: #DDD;\n",
              "  }\n",
              "\n",
              "  [theme=dark] .colab-df-quickchart {\n",
              "      --bg-color: #3B4455;\n",
              "      --fill-color: #D2E3FC;\n",
              "      --hover-bg-color: #434B5C;\n",
              "      --hover-fill-color: #FFFFFF;\n",
              "      --disabled-bg-color: #3B4455;\n",
              "      --disabled-fill-color: #666;\n",
              "  }\n",
              "\n",
              "  .colab-df-quickchart {\n",
              "    background-color: var(--bg-color);\n",
              "    border: none;\n",
              "    border-radius: 50%;\n",
              "    cursor: pointer;\n",
              "    display: none;\n",
              "    fill: var(--fill-color);\n",
              "    height: 32px;\n",
              "    padding: 0;\n",
              "    width: 32px;\n",
              "  }\n",
              "\n",
              "  .colab-df-quickchart:hover {\n",
              "    background-color: var(--hover-bg-color);\n",
              "    box-shadow: 0 1px 2px rgba(60, 64, 67, 0.3), 0 1px 3px 1px rgba(60, 64, 67, 0.15);\n",
              "    fill: var(--button-hover-fill-color);\n",
              "  }\n",
              "\n",
              "  .colab-df-quickchart-complete:disabled,\n",
              "  .colab-df-quickchart-complete:disabled:hover {\n",
              "    background-color: var(--disabled-bg-color);\n",
              "    fill: var(--disabled-fill-color);\n",
              "    box-shadow: none;\n",
              "  }\n",
              "\n",
              "  .colab-df-spinner {\n",
              "    border: 2px solid var(--fill-color);\n",
              "    border-color: transparent;\n",
              "    border-bottom-color: var(--fill-color);\n",
              "    animation:\n",
              "      spin 1s steps(1) infinite;\n",
              "  }\n",
              "\n",
              "  @keyframes spin {\n",
              "    0% {\n",
              "      border-color: transparent;\n",
              "      border-bottom-color: var(--fill-color);\n",
              "      border-left-color: var(--fill-color);\n",
              "    }\n",
              "    20% {\n",
              "      border-color: transparent;\n",
              "      border-left-color: var(--fill-color);\n",
              "      border-top-color: var(--fill-color);\n",
              "    }\n",
              "    30% {\n",
              "      border-color: transparent;\n",
              "      border-left-color: var(--fill-color);\n",
              "      border-top-color: var(--fill-color);\n",
              "      border-right-color: var(--fill-color);\n",
              "    }\n",
              "    40% {\n",
              "      border-color: transparent;\n",
              "      border-right-color: var(--fill-color);\n",
              "      border-top-color: var(--fill-color);\n",
              "    }\n",
              "    60% {\n",
              "      border-color: transparent;\n",
              "      border-right-color: var(--fill-color);\n",
              "    }\n",
              "    80% {\n",
              "      border-color: transparent;\n",
              "      border-right-color: var(--fill-color);\n",
              "      border-bottom-color: var(--fill-color);\n",
              "    }\n",
              "    90% {\n",
              "      border-color: transparent;\n",
              "      border-bottom-color: var(--fill-color);\n",
              "    }\n",
              "  }\n",
              "</style>\n",
              "\n",
              "      <script>\n",
              "        async function quickchart(key) {\n",
              "          const quickchartButtonEl =\n",
              "            document.querySelector('#' + key + ' button');\n",
              "          quickchartButtonEl.disabled = true;  // To prevent multiple clicks.\n",
              "          quickchartButtonEl.classList.add('colab-df-spinner');\n",
              "          try {\n",
              "            const charts = await google.colab.kernel.invokeFunction(\n",
              "                'suggestCharts', [key], {});\n",
              "          } catch (error) {\n",
              "            console.error('Error during call to suggestCharts:', error);\n",
              "          }\n",
              "          quickchartButtonEl.classList.remove('colab-df-spinner');\n",
              "          quickchartButtonEl.classList.add('colab-df-quickchart-complete');\n",
              "        }\n",
              "        (() => {\n",
              "          let quickchartButtonEl =\n",
              "            document.querySelector('#df-e03c85fb-4388-4397-9c74-ae11ad6ab8d1 button');\n",
              "          quickchartButtonEl.style.display =\n",
              "            google.colab.kernel.accessAllowed ? 'block' : 'none';\n",
              "        })();\n",
              "      </script>\n",
              "    </div>\n",
              "    </div>\n",
              "  </div>\n"
            ],
            "application/vnd.google.colaboratory.intrinsic+json": {
              "type": "dataframe",
              "variable_name": "X"
            }
          },
          "metadata": {},
          "execution_count": 13
        }
      ],
      "source": [
        "X.head(5)"
      ]
    },
    {
      "cell_type": "code",
      "execution_count": 14,
      "metadata": {
        "colab": {
          "base_uri": "https://localhost:8080/"
        },
        "id": "kpccK0z4AATD",
        "outputId": "64e99932-cff0-4c95-9c56-3ec6cf6b99a1"
      },
      "outputs": [
        {
          "output_type": "execute_result",
          "data": {
            "text/plain": [
              "['id',\n",
              " 'сумма_займа',\n",
              " 'срок_займа',\n",
              " 'процентная_ставка',\n",
              " 'аннуитет',\n",
              " 'рейтинг',\n",
              " 'допрейтинг',\n",
              " 'профессия_заемщика',\n",
              " 'стаж',\n",
              " 'владение_жильем',\n",
              " 'годовой_доход',\n",
              " 'подтвержден_ли_доход',\n",
              " 'рейтинг_OCR',\n",
              " 'платежный_график',\n",
              " 'коэфф_акционных_зачислений_в_остатке',\n",
              " 'цель_займа',\n",
              " 'кол_во_субсидий_за_год',\n",
              " 'индекс_проживания',\n",
              " 'регион',\n",
              " 'пдн',\n",
              " 'пос_стоп_фактор',\n",
              " 'юридический_статус',\n",
              " 'кол-во_просрочек_за_два_года',\n",
              " 'коэфф_невыплаченного_сумм_остатка',\n",
              " 'коэфф_исходного_платежа',\n",
              " 'дата_первого_займа',\n",
              " 'нижний_порог_рейтинга_заемщика',\n",
              " 'верхний_порог_рейтинга_заемщика',\n",
              " 'кол-во_заявок_за_полгода',\n",
              " 'кол-во_месяцев_с_последней_просрочки',\n",
              " 'кол-во_месяцев_с_последнего_займа',\n",
              " 'кол-во_открытых_счетов',\n",
              " 'кол-во_записей_в_общедоступных_документах',\n",
              " 'оборотный_баланс',\n",
              " 'коэфф_загрузки_возобновляемого_счета',\n",
              " 'кол-во_счетов',\n",
              " 'первоначальный_статус_займа',\n",
              " 'непогашенная_сумма_из_тела_займов',\n",
              " 'сумма_выплат_по_просрочкам',\n",
              " 'пени_за_дефолт',\n",
              " 'дата_следующей_выплаты',\n",
              " 'грейд_на_детерминаторе',\n",
              " 'кол-во_взысканий_за_последний_год',\n",
              " 'кол-во_месяцев_с_последнего_нарушения',\n",
              " 'код_политики',\n",
              " 'тип_займа',\n",
              " 'совокупный_доход_заемщиков',\n",
              " 'совокупный_пдн_заемщиков',\n",
              " 'совокупный_статус_подтверждения_доходов_заемщиков',\n",
              " 'кол-во_текущих_просроченных_счетов',\n",
              " 'общая_сумма_взысканий',\n",
              " 'возвраты_с_учетом_мпл',\n",
              " 'общая_сумма_на_счетах',\n",
              " 'кол-во_открытых_счетов_за_полгода',\n",
              " 'кол-во_текущих_аннуитетных_счетов',\n",
              " 'кол-во_аннуитетных_счетов_за_год',\n",
              " 'кол-во_аннуитетных_счетов_за_2_года',\n",
              " 'кол-во_месяцев_с_посл_аннуитетного_счета',\n",
              " 'текущий_баланс_по_аннуитетным_счетам',\n",
              " 'соотношение_сумм_текущего_баланса_к_лимиту_по_аннуитетным_счетам',\n",
              " 'кол-во_возоб_счетов_за_год',\n",
              " 'кол-во_возоб_счетов_за_2_года',\n",
              " 'макс_баланс_по_возоб_счетам',\n",
              " 'соотношение_баланса_к_лимиту_общее',\n",
              " 'общий_лимит_по_возоб_счету',\n",
              " 'кол-во_финансовых_запросов',\n",
              " 'кол-во_финансовых_операций',\n",
              " 'кол-во_заявок_на_кредит_за_год',\n",
              " 'кол-во_открытых_счетов_за_2_года',\n",
              " 'средний_баланс_текущих_счетов',\n",
              " 'суммарная_доступная_сумма_займа_по_картам',\n",
              " 'соотношение_баланса_к_лимиту_по_картам',\n",
              " 'кол-во_списаний_за_год',\n",
              " 'сумма_задолженности',\n",
              " 'кол-во_месяцев_с_первого_аннуитетного_счета',\n",
              " 'кол-во_месяцев_с_первого_возобновляемого_счета',\n",
              " 'кол-во_месяцев_с_последнего_возобновляемого_счета',\n",
              " 'кол-во_месяцев_с_последнего_счета',\n",
              " 'кол-во_ипотек',\n",
              " 'кол-во_месяцев_с_последней_карты',\n",
              " 'кол-во_мес_с_последней_задолженности_по_карте',\n",
              " 'кол-во_мес_с_последней_заявки',\n",
              " 'кол-во_мес_с_последней_задолженности_по_возобновляемому_счету',\n",
              " 'кол-во_счетов_с_просрочкой_4_мес',\n",
              " 'кол-во_активных_карт',\n",
              " 'кол-во_активных_возобновляемых_счетов',\n",
              " 'кол-во_карт_без_нарушений',\n",
              " 'кол-во_карт',\n",
              " 'кол-во_аннуитетных_счетов',\n",
              " 'кол-во_открытых_возобновляемых_счетов',\n",
              " 'кол-во_возобновляемых_счетов',\n",
              " 'кол-во_возобновляемых_счетов_с_балансом_более_0',\n",
              " 'кол-во_счетов_без_нарушений',\n",
              " 'кол-во_счетов_с_акт_просрочкой_4_мес_обн_2_мес',\n",
              " 'кол-во_счетов_с_акт_просрочкой_1_мес',\n",
              " 'кол-во_счетов_с_акт_просрочкой_3_мес_за_2_года',\n",
              " 'кол-во_счетов_за_посл_год',\n",
              " 'процент_счетов_без_просрочек',\n",
              " 'процент_счетов_прев_75_лимита',\n",
              " 'кол-во_публ_банкротств',\n",
              " 'кол-во_залогов',\n",
              " 'кредитный_лимит',\n",
              " 'кредитный_баланс_без_ипотеки',\n",
              " 'лимит_по_картам',\n",
              " 'лимит_по_аннуитетным_счетам',\n",
              " 'кредитный_баланс_по_возоб_счетам',\n",
              " 'особая_ситуация',\n",
              " 'тип_предоставления_кредита']"
            ]
          },
          "metadata": {},
          "execution_count": 14
        }
      ],
      "source": [
        "# Столбцы в train\n",
        "X.columns.to_list()"
      ]
    },
    {
      "cell_type": "markdown",
      "metadata": {
        "id": "yGAgRV93Bjy6"
      },
      "source": [
        "Признак **пени_за_дефолт** вызывает подозрение на утечку данных (**data leakage**).\n",
        "\n",
        "\n",
        "Этот признак становится известен только после наступления события \"дефолт\", то есть использовать его для предсказания этого события - это нарушение причинно-следственной связи. Модель не должна знать \"будущее\". Его необходимо удалить из признаков, используемых для обучения модели"
      ]
    },
    {
      "cell_type": "markdown",
      "source": [
        "Также следует удалить признак **дата_следующей_выплаты**, так как он является потенциальной утечкой данных. Дата следующей выплаты содержит информацию о будущем поведении заемщика, что нарушает причинно-следственную связь в предсказательной модели"
      ],
      "metadata": {
        "id": "b9acGQ3zBEZe"
      }
    },
    {
      "cell_type": "code",
      "execution_count": 15,
      "metadata": {
        "id": "qs47NkLgNREy"
      },
      "outputs": [],
      "source": [
        "X = X.drop(['пени_за_дефолт', 'дата_следующей_выплаты'], axis=1)"
      ]
    },
    {
      "cell_type": "code",
      "source": [
        "# Разделение на тренировочную и тестовую выборки\n",
        "X_train, X_test, y_train, y_test = train_test_split(\n",
        "    X, y,\n",
        "    test_size=0.2,  # 20% данных для теста\n",
        "    stratify=y,     # сохраняем пропорции классов\n",
        "    random_state=42 # для воспроизводимости результатов\n",
        ")"
      ],
      "metadata": {
        "id": "BPwoaSinBw8I"
      },
      "execution_count": 16,
      "outputs": []
    },
    {
      "cell_type": "code",
      "source": [
        "print(f\"Размер тренировочной выборки: {X_train.shape}\")\n",
        "print(f\"Размер тестовой выборки: {X_test.shape}\")\n",
        "print(f\"\\nРаспределение целевой переменной в тренировочных данных:\")\n",
        "print(round(y_train.value_counts(normalize=True),2))\n",
        "print(f\"\\nРаспределение целевой переменной в тестовых данных:\")\n",
        "print(round(y_test.value_counts(normalize=True),2))"
      ],
      "metadata": {
        "colab": {
          "base_uri": "https://localhost:8080/"
        },
        "id": "qdUc07WY-ijO",
        "outputId": "70e45dbe-c1fe-494d-bcac-e813c453b209"
      },
      "execution_count": 17,
      "outputs": [
        {
          "output_type": "stream",
          "name": "stdout",
          "text": [
            "Размер тренировочной выборки: (968623, 106)\n",
            "Размер тестовой выборки: (242156, 106)\n",
            "\n",
            "Распределение целевой переменной в тренировочных данных:\n",
            "итоговый_статус_займа\n",
            "0    0.8\n",
            "1    0.2\n",
            "Name: proportion, dtype: float64\n",
            "\n",
            "Распределение целевой переменной в тестовых данных:\n",
            "итоговый_статус_займа\n",
            "0    0.8\n",
            "1    0.2\n",
            "Name: proportion, dtype: float64\n"
          ]
        }
      ]
    },
    {
      "cell_type": "code",
      "execution_count": 18,
      "metadata": {
        "colab": {
          "base_uri": "https://localhost:8080/"
        },
        "id": "1dfqX3b4CWoe",
        "outputId": "d39c61b9-6d98-4ccd-8214-3523776e115e"
      },
      "outputs": [
        {
          "output_type": "stream",
          "name": "stdout",
          "text": [
            "Количество совпадающих ID: 0\n"
          ]
        }
      ],
      "source": [
        "# Проверка на пересечение ID в тестовой и тренировочной выборке\n",
        "overlap = len(set(X_train['id']) & set(X_test['id']))\n",
        "print(f\"Количество совпадающих ID: {overlap}\")"
      ]
    },
    {
      "cell_type": "markdown",
      "metadata": {
        "id": "2xA7rDpZCgGt"
      },
      "source": [
        "Вывод: Количество совпадающих id между обучающей и тестовой выборками - 0. Это означает, что выборки независимы по идентификаторам заемщиков.\n",
        "\n",
        "\n",
        "**Признак id необходимо удалить** из признаков, используемых для обучения модели, т.к. он не несет никакой информации о характеристиках заемщика, его поведении или рисках. Модель, обученная на старых id, не сможет использовать этот признак для предсказания. Это может привести к переобучению модели\n"
      ]
    },
    {
      "cell_type": "code",
      "source": [
        "X_train, X_test = X_train.drop('id', axis=1), X_test.drop('id', axis=1)"
      ],
      "metadata": {
        "id": "4g3BKRRuE-IU"
      },
      "execution_count": 19,
      "outputs": []
    },
    {
      "cell_type": "code",
      "execution_count": 20,
      "metadata": {
        "colab": {
          "base_uri": "https://localhost:8080/"
        },
        "id": "1BsONfSf_Sy3",
        "outputId": "89f17c3b-f692-40a4-d33e-5819bf3d4fed"
      },
      "outputs": [
        {
          "output_type": "stream",
          "name": "stdout",
          "text": [
            "float64    83\n",
            "object     18\n",
            "int64       5\n",
            "Name: count, dtype: int64\n"
          ]
        }
      ],
      "source": [
        "# Анализ типов данных признаков\n",
        "print(X.dtypes.value_counts())"
      ]
    },
    {
      "cell_type": "markdown",
      "source": [
        "## Выбор метрики оценки качества модели\n",
        "В задаче кредитного скоринга выбор правильной метрики критически важен для\n",
        "обеспечения соответствия бизнес-целям и корректной оценки модели.\n",
        "Общепринятой метрикой в такой задаче является ROC AUC\n"
      ],
      "metadata": {
        "id": "uFOhs8WbLR2_"
      }
    },
    {
      "cell_type": "code",
      "source": [
        "import numpy as np\n",
        "import pandas as pd\n",
        "from sklearn.metrics import roc_auc_score, accuracy_score, precision_score, recall_score, f1_score\n",
        "from sklearn.metrics import roc_curve, auc\n",
        "import matplotlib.pyplot as plt\n",
        "import seaborn as sns\n",
        "\n",
        "# Давайте еще раз посмотрим распределение целевой переменной\n",
        "print(\"Распределение целевой переменной:\")\n",
        "target_distribution = y.value_counts(normalize=True)\n",
        "print(target_distribution)\n",
        "\n",
        "# Объяснение выбора ROC AUC\n",
        "print(\"\"\"\n",
        "=== Почему выбрана метрика ROC AUC? ===\n",
        "\n",
        "1. ФОКУС НА РАНЖИРОВАНИИ:\n",
        "   - Нам важнее правильно упорядочить клиентов по уровню риска\n",
        "   - ROC AUC измеряет способность модели отделять классы, а не точные вероятности\n",
        "\n",
        "2. УСТОЙЧИВОСТЬ К ДИСБАЛАНСУ:\n",
        "   - Дефолтных клиентов ~{:.1%}, надежных ~{:.1%}\n",
        "   - ROC AUC не зависит от порога классификации\n",
        "   - Accuracy в данном случае обманчива (даже случайная модель даст ~{:.1%} accuracy)\n",
        "\n",
        "3. БИЗНЕС-ИНТЕРПРЕТАЦИЯ:\n",
        "   - AUC = 0.8 означает: вероятность 80%, что модель\n",
        "     правильно ранжирует случайную пару (дефолтный, надежный) клиент\n",
        "   - Это напрямую связано с бизнес-целью: минимизировать кредитные потери\n",
        "\"\"\".format(target_distribution[0], target_distribution[1], target_distribution[0]))"
      ],
      "metadata": {
        "colab": {
          "base_uri": "https://localhost:8080/"
        },
        "id": "Y2sol_nUKdL6",
        "outputId": "8358cbbc-b566-43c2-881b-4b3b34ac54f2"
      },
      "execution_count": 31,
      "outputs": [
        {
          "output_type": "stream",
          "name": "stdout",
          "text": [
            "Распределение целевой переменной:\n",
            "итоговый_статус_займа\n",
            "0    0.800381\n",
            "1    0.199619\n",
            "Name: proportion, dtype: float64\n",
            "\n",
            "=== Почему выбрана метрика ROC AUC? ===\n",
            "\n",
            "1. ФОКУС НА РАНЖИРОВАНИИ:\n",
            "   - Нам важнее правильно упорядочить клиентов по уровню риска\n",
            "   - ROC AUC измеряет способность модели отделять классы, а не точные вероятности\n",
            "\n",
            "2. УСТОЙЧИВОСТЬ К ДИСБАЛАНСУ:\n",
            "   - Дефолтных клиентов ~80.0%, надежных ~20.0%\n",
            "   - ROC AUC не зависит от порога классификации\n",
            "   - Accuracy в данном случае обманчива (даже случайная модель даст ~80.0% accuracy)\n",
            "\n",
            "3. БИЗНЕС-ИНТЕРПРЕТАЦИЯ:\n",
            "   - AUC = 0.8 означает: вероятность 80%, что модель \n",
            "     правильно ранжирует случайную пару (дефолтный, надежный) клиент\n",
            "   - Это напрямую связано с бизнес-целью: минимизировать кредитные потери\n",
            "\n"
          ]
        }
      ]
    },
    {
      "cell_type": "code",
      "source": [
        "# Демонстрация проблемы с другими метриками\n",
        "print(\"=== Проблемы других метрик ===\")\n",
        "\n",
        "# Симуляция \"наивной\" модели, которая всегда предсказывает класс 0\n",
        "y_true = y.values\n",
        "y_naive_pred = np.zeros_like(y_true)  # Всегда предсказывает \"надежный клиент\"\n",
        "\n",
        "print(f\"Accuracy наивной модели: {accuracy_score(y_true, y_naive_pred):.4f}\")\n",
        "print(f\"ROC AUC наивной модели: ~0.5000 (случайная модель)\")\n",
        "\n",
        "# Симуляция хорошей модели с AUC ~ 0.8\n",
        "np.random.seed(42)\n",
        "# Создаем \"хорошие\" предсказания, коррелирующие с истинными значениями\n",
        "y_good_pred_proba = np.random.beta(2, 5, size=len(y_true))  # Асимметричное распределение\n",
        "y_good_pred_proba[y_true == 1] = np.random.beta(5, 2, size=np.sum(y_true == 1))  # Для дефолтных клиентов\n",
        "\n",
        "print(f\"\\nПример хорошей модели:\")\n",
        "print(f\"ROC AUC: {roc_auc_score(y_true, y_good_pred_proba):.4f}\")\n",
        "print(f\"Accuracy (при пороге 0.5): {accuracy_score(y_true, y_good_pred_proba > 0.5):.4f}\")\n",
        "\n",
        "\n",
        "# Визуализация ROC кривых\n",
        "print(\"=== Визуализация ROC-кривых ===\")\n",
        "\n",
        "# Создаем синтетические данные для демонстрации\n",
        "np.random.seed(42)\n",
        "n_samples = 1000\n",
        "y_test = np.random.binomial(1, 0.15, n_samples)  # 15% дефолтов\n",
        "\n",
        "# Три модели для сравнения:\n",
        "# 1. Случайная модель\n",
        "y_pred_random = np.random.uniform(0, 1, n_samples)\n",
        "fpr_random, tpr_random, _ = roc_curve(y_test, y_pred_random)\n",
        "auc_random = auc(fpr_random, tpr_random)\n",
        "\n",
        "# 2. Хорошая модель\n",
        "y_pred_good = np.where(y_test == 1,\n",
        "                       np.random.beta(4, 1, n_samples),  # Высокие вероятности для дефолтов\n",
        "                       np.random.beta(1, 4, n_samples))  # Низкие вероятности для надежных\n",
        "fpr_good, tpr_good, _ = roc_curve(y_test, y_pred_good)\n",
        "auc_good = auc(fpr_good, tpr_good)\n",
        "\n",
        "# 3. Отличная модель\n",
        "y_pred_excellent = np.where(y_test == 1,\n",
        "                           np.random.beta(8, 1, n_samples),  # Очень высокие вероятности для дефолтов\n",
        "                           np.random.beta(1, 8, n_samples))  # Очень низкие вероятности для надежных\n",
        "fpr_excellent, tpr_excellent, _ = roc_curve(y_test, y_pred_excellent)\n",
        "auc_excellent = auc(fpr_excellent, tpr_excellent)\n",
        "\n",
        "# Построение графика ROC-кривых\n",
        "plt.figure(figsize=(10, 8))\n",
        "plt.plot(fpr_random, tpr_random, color='red', lw=2, label=f'Случайная модель (AUC = {auc_random:.3f})')\n",
        "plt.plot(fpr_good, tpr_good, color='orange', lw=2, label=f'Хорошая модель (AUC = {auc_good:.3f})')\n",
        "plt.plot(fpr_excellent, tpr_excellent, color='green', lw=2, label=f'Отличная модель (AUC = {auc_excellent:.3f})')\n",
        "plt.plot([0, 1], [0, 1], color='navy', lw=1, linestyle='--', label='Случайный классификатор (AUC = 0.5)')\n",
        "\n",
        "plt.xlim([0.0, 1.0])\n",
        "plt.ylim([0.0, 1.05])\n",
        "plt.xlabel('False Positive Rate (1 - Специфичность)', fontsize=12)\n",
        "plt.ylabel('True Positive Rate (Чувствительность)', fontsize=12)\n",
        "plt.title('ROC-кривые для разных моделей кредитного скоринга', fontsize=14)\n",
        "plt.legend(loc=\"lower right\", fontsize=11)\n",
        "plt.grid(True, alpha=0.3)\n",
        "plt.show()\n",
        "\n",
        "print(f\"Результаты моделей:\")\n",
        "print(f\"Случайная модель: AUC = {auc_random:.3f}\")\n",
        "print(f\"Хорошая модель: AUC = {auc_good:.3f}\")\n",
        "print(f\"Отличная модель: AUC = {auc_excellent:.3f}\")\n",
        "\n",
        "# Показываем, почему accuracy может быть обманчивой\n",
        "threshold = 0.5\n",
        "accuracy_random = accuracy_score(y_test, y_pred_random > threshold)\n",
        "accuracy_good = accuracy_score(y_test, y_pred_good > threshold)\n",
        "accuracy_excellent = accuracy_score(y_test, y_pred_excellent > threshold)\n",
        "\n",
        "print(f\"\\nAccuracy при пороге {threshold}:\")\n",
        "print(f\"Случайная модель: Accuracy = {accuracy_random:.3f}\")\n",
        "print(f\"Хорошая модель: Accuracy = {accuracy_good:.3f}\")\n",
        "print(f\"Отличная модель: Accuracy = {accuracy_excellent:.3f}\")\n",
        "print(\"(Разница в accuracy кажется меньшей, чем разница в AUC)\")\n"
      ],
      "metadata": {
        "colab": {
          "base_uri": "https://localhost:8080/",
          "height": 1000
        },
        "id": "b1-1N89JMFGw",
        "outputId": "0c4e6336-9fbf-4a28-9b21-14667752ecae"
      },
      "execution_count": 33,
      "outputs": [
        {
          "output_type": "stream",
          "name": "stdout",
          "text": [
            "=== Проблемы других метрик ===\n",
            "Accuracy наивной модели: 0.8004\n",
            "ROC AUC наивной модели: ~0.5000 (случайная модель)\n",
            "\n",
            "Пример хорошей модели:\n",
            "ROC AUC: 0.9600\n",
            "Accuracy (при пороге 0.5): 0.8904\n",
            "=== Визуализация ROC-кривых ===\n"
          ]
        },
        {
          "output_type": "display_data",
          "data": {
            "text/plain": [
              "<Figure size 1000x800 with 1 Axes>"
            ],
            "image/png": "[encoded data removed]"
          },
          "metadata": {}
        },
        {
          "output_type": "stream",
          "name": "stdout",
          "text": [
            "Результаты моделей:\n",
            "Случайная модель: AUC = 0.525\n",
            "Хорошая модель: AUC = 0.984\n",
            "Отличная модель: AUC = 1.000\n",
            "\n",
            "Accuracy при пороге 0.5:\n",
            "Случайная модель: Accuracy = 0.507\n",
            "Хорошая модель: Accuracy = 0.921\n",
            "Отличная модель: Accuracy = 0.995\n",
            "(Разница в accuracy кажется меньшей, чем разница в AUC)\n"
          ]
        }
      ]
    },
    {
      "cell_type": "markdown",
      "source": [
        "**Вывод**:\n",
        "\n",
        "ROC AUC выбрана как основная метрика потому что:\n",
        "\n",
        "*   Измеряет качество ранжирования рисков (главная цель кредитного скоринга)\n",
        "*   Устойчива к дисбалансу классов\n",
        "*   Имеет четкую бизнес-интерпретацию\n",
        "*   Не зависит от выбора порога классификации\n",
        "*   Стандарт в банковской индустрии"
      ],
      "metadata": {
        "id": "ca8asqMoMVb8"
      }
    },
    {
      "cell_type": "markdown",
      "metadata": {
        "id": "ZQAQdnA1ERf4"
      },
      "source": [
        "**Выбор модели:**\n",
        "\n",
        "У нас есть 18 категориальных признаков. Обработка таких признаков требует особого подхода (например, One-Hot Encoding, Label Encoding). Многие алгоритмы (например, логистическая регрессия, SVM) не могут напрямую работать с текстовыми категориями.\n",
        "\n",
        "\n",
        "**CatBoost** же разработан специально для эффективной и автоматической обработки категориальных данных. Его можно напрямую обучить на признаках типа object без необходимости предварительного ручного кодирования. Также он хорошо справляется с пропущенными значениями и не требует их обязательного заполнения средними/медианами.\n",
        "\n",
        "Вывод: Наличие большого количества категориальных признаков (object) делает CatBoost идеальным кандидатом для этой задачи, обеспечивая при этом высокое качество, удобство использования и минимальную необходимость в ручной предобработке категорий."
      ]
    },
    {
      "cell_type": "markdown",
      "metadata": {
        "id": "Hunl08jJEzv9"
      },
      "source": [
        "## Baseline"
      ]
    },
    {
      "cell_type": "code",
      "execution_count": null,
      "metadata": {
        "colab": {
          "base_uri": "https://localhost:8080/"
        },
        "id": "nSah37TMEPNk",
        "outputId": "501d2f64-8160-4f94-857f-99db7fc21025"
      },
      "outputs": [
        {
          "output_type": "stream",
          "name": "stdout",
          "text": [
            "Logistic Regression AUC: 0.7097\n"
          ]
        }
      ],
      "source": [
        "# Выберем только числовые признаки, чтобы избежать сложностей с кодированием категориальных переменных на этом этапе\n",
        "num_features = X.select_dtypes(include=['int64', 'float64']).columns.tolist()\n",
        "X_num = X[num_features]\n",
        "\n",
        "# Заполним пропуски медианой\n",
        "X_num = X_num.fillna(X_num.median())\n",
        "\n",
        "# Используем только часть данных для ускорения обучения\n",
        "sample_size = min(10_000, len(X_num))\n",
        "idx_sample = np.random.RandomState(42).choice(X_num.index, size=sample_size, replace=False)\n",
        "X_sample = X_num.loc[idx_sample]\n",
        "y_sample = y.loc[idx_sample]\n",
        "\n",
        "# Разделение на train и validation с учетом дисбаланса\n",
        "X_train, X_val, y_train, y_val = train_test_split(\n",
        "    X_sample, y_sample,\n",
        "    test_size=0.2,\n",
        "    stratify=y_sample,\n",
        "    random_state=42\n",
        ")\n",
        "\n",
        "# Нормализация\n",
        "scaler = StandardScaler()\n",
        "X_train_scaled = scaler.fit_transform(X_train)\n",
        "X_val_scaled = scaler.transform(X_val)\n",
        "\n",
        "# Обучение модели\n",
        "model = LogisticRegression(\n",
        "    C=1.0,\n",
        "    solver='liblinear',\n",
        "    max_iter=100,\n",
        "    random_state=42\n",
        ")\n",
        "\n",
        "model.fit(X_train_scaled, y_train)\n",
        "\n",
        "# Оценка модели\n",
        "val_pred = model.predict_proba(X_val_scaled)[:, 1]\n",
        "auc_score = roc_auc_score(y_val, val_pred)\n",
        "print(f\"Logistic Regression AUC: {auc_score:.4f}\")"
      ]
    },
    {
      "cell_type": "markdown",
      "metadata": {
        "id": "AOCVHAotFSlP"
      },
      "source": [
        "## Feature Engineering"
      ]
    },
    {
      "cell_type": "markdown",
      "metadata": {
        "id": "MoQ2MDddOQ4a"
      },
      "source": [
        "Создаем **новые признаки** на основе существующих данных, чтобы предоставить модели дополнительную информацию и потенциально улучшить её предсказательную способность"
      ]
    },
    {
      "cell_type": "code",
      "execution_count": null,
      "metadata": {
        "id": "nrxzyoslFVuF"
      },
      "outputs": [],
      "source": [
        "rating_rate = train_full.groupby('рейтинг')['итоговый_статус_займа'].mean()\n",
        "X['платеж_на_доход'] = X['аннуитет'] / (X['годовой_доход'] / 12 + 1)\n",
        "X['займ_на_доход'] = X['сумма_займа'] / (X['годовой_доход'] + 1)\n",
        "X['отношение_просрочек'] = X['сумма_выплат_по_просрочкам'] / (X['сумма_займа'] + 1)\n",
        "X['дефолт_по_рейтингу'] = X['рейтинг'].map(rating_rate).fillna(0)\n",
        "X['доля_карт_без_нарушений'] = X['кол-во_карт_без_нарушений'] / (X['кол-во_карт'] + 1)\n",
        "X['сумма_на_счетах_к_долгу'] = X['общая_сумма_на_счетах'] / (X['непогашенная_сумма_из_тела_займов'] + 1)\n",
        "X['сумма_на_счетах_к_аннуитету'] = X['общая_сумма_на_счетах'] / (X['аннуитет'] + 1)\n",
        "X['просрочка_к_доходу'] = X['сумма_выплат_по_просрочкам'] / (X['годовой_доход'] + 1)\n",
        "X['баланс_к_аннуитету'] = X['оборотный_баланс'] / (X['аннуитет'] + 1)"
      ]
    },
    {
      "cell_type": "markdown",
      "metadata": {
        "id": "gGEix8KpPVpN"
      },
      "source": [
        "**Созданные признаки:**\n",
        "\n",
        "**платеж_на_доход:**\n",
        "Отношение ежемесячного аннуитетного платежа к среднемесячному доходу заемщика. Показывает, какую долю своего дохода заемщик тратит на обслуживание этого займа.\n",
        "\n",
        "**займ_на_доход**:\n",
        "Отношение общей суммы займа к годовому доходу. Показывает, во сколько раз займ превышает годовой доход.\n",
        "\n",
        "**отношение_просрочек:**\n",
        "Доля средств, ушедших на погашение просрочек, от общей суммы займа.\n",
        "\n",
        "**дефолт_по_рейтингу:**\n",
        "Средняя частота дефолта для каждой категории признака рейтинг. Рассчитывается как среднее значение итоговый_статус_займа для каждого уникального рейтинга в обучающей выборке.\n",
        "\n",
        "**доля_карт_без_нарушений:**\n",
        "Доля карт заемщика, по которым отсутствуют нарушения.\n",
        "\n",
        "**сумма_на_счетах_к\\_долгу:**\n",
        "Отношение доступных средств на счетах к оставшемуся основному долгу по займам.\n",
        "\n",
        "**сумма_на_счетах_к\\_аннуитету:**\n",
        "Отношение доступных средств на счетах к ежемесячному аннуитетному платежу.\n",
        "\n",
        "**просрочка_к\\_доходу:**\n",
        "Отношение общей суммы выплат по просрочкам к годовому доходу заемщика. Показывает, насколько просрочки соотносятся с годовым доходом клиента.\n",
        "\n",
        "**баланс_к\\_аннуитету:**\n",
        "Отношение оборотного баланса к ежемесячному аннуитетному платежу. Отражает, во сколько раз баланс превышает обязательный ежемесячный платёж."
      ]
    },
    {
      "cell_type": "markdown",
      "metadata": {
        "id": "m8H4JHaEF_tY"
      },
      "source": [
        "## Обучение модели и кросс-валидация"
      ]
    },
    {
      "cell_type": "markdown",
      "metadata": {
        "id": "U2tfpVsWPsL4"
      },
      "source": [
        "На этом этапе мы обучаем модель **CatBoostClassifier** — используя 5-фолдную стратифицированную кросс-валидацию для надежной оценки качества"
      ]
    },
    {
      "cell_type": "code",
      "execution_count": null,
      "metadata": {
        "colab": {
          "base_uri": "https://localhost:8080/"
        },
        "id": "r5Wcrr7hPt_N",
        "outputId": "586c356f-2cbd-43d0-b7ae-3ca09f8fec31"
      },
      "outputs": [
        {
          "output_type": "stream",
          "name": "stderr",
          "text": [
            "Default metric period is 5 because AUC is/are not implemented for GPU\n"
          ]
        },
        {
          "output_type": "stream",
          "name": "stdout",
          "text": [
            "0:\ttest: 0.7307337\tbest: 0.7307337 (0)\ttotal: 286ms\tremaining: 2m 22s\n",
            "200:\ttest: 0.7604733\tbest: 0.7604733 (200)\ttotal: 54.8s\tremaining: 1m 21s\n",
            "400:\ttest: 0.7648425\tbest: 0.7648425 (400)\ttotal: 1m 48s\tremaining: 26.7s\n",
            "499:\ttest: 0.7654918\tbest: 0.7654989 (496)\ttotal: 2m 15s\tremaining: 0us\n",
            "bestTest = 0.7654988766\n",
            "bestIteration = 496\n",
            "Shrink model to first 497 iterations.\n"
          ]
        },
        {
          "output_type": "stream",
          "name": "stderr",
          "text": [
            "Default metric period is 5 because AUC is/are not implemented for GPU\n"
          ]
        },
        {
          "output_type": "stream",
          "name": "stdout",
          "text": [
            "0:\ttest: 0.7303998\tbest: 0.7303998 (0)\ttotal: 277ms\tremaining: 2m 18s\n",
            "200:\ttest: 0.7614335\tbest: 0.7614335 (200)\ttotal: 55.3s\tremaining: 1m 22s\n",
            "400:\ttest: 0.7643579\tbest: 0.7643579 (400)\ttotal: 1m 49s\tremaining: 27s\n",
            "499:\ttest: 0.7654073\tbest: 0.7654129 (497)\ttotal: 2m 15s\tremaining: 0us\n",
            "bestTest = 0.7654129267\n",
            "bestIteration = 497\n",
            "Shrink model to first 498 iterations.\n"
          ]
        },
        {
          "output_type": "stream",
          "name": "stderr",
          "text": [
            "Default metric period is 5 because AUC is/are not implemented for GPU\n"
          ]
        },
        {
          "output_type": "stream",
          "name": "stdout",
          "text": [
            "0:\ttest: 0.7300332\tbest: 0.7300332 (0)\ttotal: 256ms\tremaining: 2m 7s\n",
            "200:\ttest: 0.7632975\tbest: 0.7632975 (200)\ttotal: 53.6s\tremaining: 1m 19s\n",
            "400:\ttest: 0.7664758\tbest: 0.7664786 (398)\ttotal: 1m 47s\tremaining: 26.7s\n",
            "499:\ttest: 0.7670319\tbest: 0.7670319 (499)\ttotal: 2m 15s\tremaining: 0us\n",
            "bestTest = 0.7670319378\n",
            "bestIteration = 499\n"
          ]
        },
        {
          "output_type": "stream",
          "name": "stderr",
          "text": [
            "Default metric period is 5 because AUC is/are not implemented for GPU\n"
          ]
        },
        {
          "output_type": "stream",
          "name": "stdout",
          "text": [
            "0:\ttest: 0.7289789\tbest: 0.7289789 (0)\ttotal: 408ms\tremaining: 3m 23s\n",
            "200:\ttest: 0.7615907\tbest: 0.7615907 (200)\ttotal: 54.9s\tremaining: 1m 21s\n",
            "400:\ttest: 0.7653133\tbest: 0.7653149 (399)\ttotal: 1m 49s\tremaining: 27.2s\n",
            "499:\ttest: 0.7658879\tbest: 0.7658880 (498)\ttotal: 2m 15s\tremaining: 0us\n",
            "bestTest = 0.7658880353\n",
            "bestIteration = 498\n",
            "Shrink model to first 499 iterations.\n"
          ]
        },
        {
          "output_type": "stream",
          "name": "stderr",
          "text": [
            "Default metric period is 5 because AUC is/are not implemented for GPU\n"
          ]
        },
        {
          "output_type": "stream",
          "name": "stdout",
          "text": [
            "0:\ttest: 0.7287782\tbest: 0.7287782 (0)\ttotal: 253ms\tremaining: 2m 6s\n",
            "200:\ttest: 0.7629197\tbest: 0.7629197 (200)\ttotal: 54.3s\tremaining: 1m 20s\n",
            "400:\ttest: 0.7658138\tbest: 0.7658138 (400)\ttotal: 1m 48s\tremaining: 26.7s\n",
            "499:\ttest: 0.7663520\tbest: 0.7663572 (498)\ttotal: 2m 15s\tremaining: 0us\n",
            "bestTest = 0.7663572431\n",
            "bestIteration = 498\n",
            "Shrink model to first 499 iterations.\n",
            "Validation OOF AUC: 0.7660\n"
          ]
        }
      ],
      "source": [
        "kf = StratifiedKFold(n_splits=5, shuffle=True, random_state=42)\n",
        "models = []\n",
        "oof_preds = np.zeros(len(X))\n",
        "cat_features = X.select_dtypes(include='object').columns.tolist()\n",
        "\n",
        "# Заполняем пропуски в категориальных признаках\n",
        "for col in cat_features:\n",
        "    if col in X.columns:\n",
        "        X[col] = X[col].fillna('nan').astype(str)\n",
        "\n",
        "for train_idx, val_idx in kf.split(X, y):\n",
        "    X_train, X_val = X.iloc[train_idx], X.iloc[val_idx]\n",
        "    y_train, y_val = y.iloc[train_idx], y.iloc[val_idx]\n",
        "\n",
        "    model = CatBoostClassifier(\n",
        "        iterations=500,\n",
        "        learning_rate=0.1,\n",
        "        depth=8,\n",
        "        l2_leaf_reg=3.0,\n",
        "        random_strength=0.1,\n",
        "        eval_metric='AUC',\n",
        "        early_stopping_rounds=50,\n",
        "        verbose=200,\n",
        "        random_state=42,\n",
        "        cat_features=cat_features,\n",
        "        task_type='GPU'\n",
        "    )\n",
        "\n",
        "    model.fit(X_train, y_train, eval_set=(X_val, y_val), use_best_model=True)\n",
        "    val_pred = model.predict_proba(X_val)[:, 1]\n",
        "    oof_preds[val_idx] = val_pred\n",
        "\n",
        "    models.append(model)\n",
        "\n",
        "print(f\"Validation OOF AUC: {roc_auc_score(y, oof_preds):.4f}\")"
      ]
    },
    {
      "cell_type": "markdown",
      "metadata": {
        "id": "kb0lbvi2EkYM"
      },
      "source": [
        "После обучения модели мы можем проанализировать, насколько каждый признак **\"важен\"** для принятия решений моделью. Это позволяет понять, какие переменные наиболее влияют на предсказание риска дефолта"
      ]
    },
    {
      "cell_type": "code",
      "execution_count": null,
      "metadata": {
        "id": "uloGydnDQ0R7"
      },
      "outputs": [],
      "source": [
        "# Получение важности признаков от модели CatBoost\n",
        "importances = model.feature_importances_\n",
        "feature_names = X.columns\n",
        "\n",
        "# Создание DataFrame для удобного анализа\n",
        "importance_df = pd.DataFrame({\n",
        "    'feature': feature_names,\n",
        "    'importance': importances\n",
        "}).sort_values('importance', ascending=False)\n"
      ]
    },
    {
      "cell_type": "markdown",
      "metadata": {
        "id": "TAPX4Fc5RVxS"
      },
      "source": [
        "Признаки с высокой важностью (топ 20)"
      ]
    },
    {
      "cell_type": "code",
      "execution_count": null,
      "metadata": {
        "colab": {
          "base_uri": "https://localhost:8080/",
          "height": 523
        },
        "id": "6Uw91YNoeYVx",
        "outputId": "5cdf22ba-03c0-4368-fa1c-5bc68580c090"
      },
      "outputs": [
        {
          "output_type": "execute_result",
          "data": {
            "text/plain": [
              "                               feature  importance\n",
              "5                           допрейтинг   13.276960\n",
              "112                 просрочка_к_доходу    7.624017\n",
              "1                           срок_займа    5.299700\n",
              "37          сумма_выплат_по_просрочкам    3.828046\n",
              "6                   профессия_заемщика    3.489715\n",
              "..                                 ...         ...\n",
              "12                    платежный_график    0.000000\n",
              "36   непогашенная_сумма_из_тела_займов    0.000000\n",
              "41                        код_политики    0.000000\n",
              "22   коэфф_невыплаченного_сумм_остатка    0.000000\n",
              "103                    особая_ситуация    0.000000\n",
              "\n",
              "[114 rows x 2 columns]"
            ],
            "text/html": [
              "\n",
              "  <div id=\"df-1a0c7bda-84e1-44b8-9550-d3af18506fbd\" class=\"colab-df-container\">\n",
              "    <div>\n",
              "<style scoped>\n",
              "    .dataframe tbody tr th:only-of-type {\n",
              "        vertical-align: middle;\n",
              "    }\n",
              "\n",
              "    .dataframe tbody tr th {\n",
              "        vertical-align: top;\n",
              "    }\n",
              "\n",
              "    .dataframe thead th {\n",
              "        text-align: right;\n",
              "    }\n",
              "</style>\n",
              "<table border=\"1\" class=\"dataframe\">\n",
              "  <thead>\n",
              "    <tr style=\"text-align: right;\">\n",
              "      <th></th>\n",
              "      <th>feature</th>\n",
              "      <th>importance</th>\n",
              "    </tr>\n",
              "  </thead>\n",
              "  <tbody>\n",
              "    <tr>\n",
              "      <th>5</th>\n",
              "      <td>допрейтинг</td>\n",
              "      <td>13.276960</td>\n",
              "    </tr>\n",
              "    <tr>\n",
              "      <th>112</th>\n",
              "      <td>просрочка_к_доходу</td>\n",
              "      <td>7.624017</td>\n",
              "    </tr>\n",
              "    <tr>\n",
              "      <th>1</th>\n",
              "      <td>срок_займа</td>\n",
              "      <td>5.299700</td>\n",
              "    </tr>\n",
              "    <tr>\n",
              "      <th>37</th>\n",
              "      <td>сумма_выплат_по_просрочкам</td>\n",
              "      <td>3.828046</td>\n",
              "    </tr>\n",
              "    <tr>\n",
              "      <th>6</th>\n",
              "      <td>профессия_заемщика</td>\n",
              "      <td>3.489715</td>\n",
              "    </tr>\n",
              "    <tr>\n",
              "      <th>...</th>\n",
              "      <td>...</td>\n",
              "      <td>...</td>\n",
              "    </tr>\n",
              "    <tr>\n",
              "      <th>12</th>\n",
              "      <td>платежный_график</td>\n",
              "      <td>0.000000</td>\n",
              "    </tr>\n",
              "    <tr>\n",
              "      <th>36</th>\n",
              "      <td>непогашенная_сумма_из_тела_займов</td>\n",
              "      <td>0.000000</td>\n",
              "    </tr>\n",
              "    <tr>\n",
              "      <th>41</th>\n",
              "      <td>код_политики</td>\n",
              "      <td>0.000000</td>\n",
              "    </tr>\n",
              "    <tr>\n",
              "      <th>22</th>\n",
              "      <td>коэфф_невыплаченного_сумм_остатка</td>\n",
              "      <td>0.000000</td>\n",
              "    </tr>\n",
              "    <tr>\n",
              "      <th>103</th>\n",
              "      <td>особая_ситуация</td>\n",
              "      <td>0.000000</td>\n",
              "    </tr>\n",
              "  </tbody>\n",
              "</table>\n",
              "<p>114 rows × 2 columns</p>\n",
              "</div>\n",
              "    <div class=\"colab-df-buttons\">\n",
              "\n",
              "  <div class=\"colab-df-container\">\n",
              "    <button class=\"colab-df-convert\" onclick=\"convertToInteractive('df-1a0c7bda-84e1-44b8-9550-d3af18506fbd')\"\n",
              "            title=\"Convert this dataframe to an interactive table.\"\n",
              "            style=\"display:none;\">\n",
              "\n",
              "  <svg xmlns=\"http://www.w3.org/2000/svg\" height=\"24px\" viewBox=\"0 -960 960 960\">\n",
              "    <path d=\"M120-120v-720h720v720H120Zm60-500h600v-160H180v160Zm220 220h160v-160H400v160Zm0 220h160v-160H400v160ZM180-400h160v-160H180v160Zm440 0h160v-160H620v160ZM180-180h160v-160H180v160Zm440 0h160v-160H620v160Z\"/>\n",
              "  </svg>\n",
              "    </button>\n",
              "\n",
              "  <style>\n",
              "    .colab-df-container {\n",
              "      display:flex;\n",
              "      gap: 12px;\n",
              "    }\n",
              "\n",
              "    .colab-df-convert {\n",
              "      background-color: #E8F0FE;\n",
              "      border: none;\n",
              "      border-radius: 50%;\n",
              "      cursor: pointer;\n",
              "      display: none;\n",
              "      fill: #1967D2;\n",
              "      height: 32px;\n",
              "      padding: 0 0 0 0;\n",
              "      width: 32px;\n",
              "    }\n",
              "\n",
              "    .colab-df-convert:hover {\n",
              "      background-color: #E2EBFA;\n",
              "      box-shadow: 0px 1px 2px rgba(60, 64, 67, 0.3), 0px 1px 3px 1px rgba(60, 64, 67, 0.15);\n",
              "      fill: #174EA6;\n",
              "    }\n",
              "\n",
              "    .colab-df-buttons div {\n",
              "      margin-bottom: 4px;\n",
              "    }\n",
              "\n",
              "    [theme=dark] .colab-df-convert {\n",
              "      background-color: #3B4455;\n",
              "      fill: #D2E3FC;\n",
              "    }\n",
              "\n",
              "    [theme=dark] .colab-df-convert:hover {\n",
              "      background-color: #434B5C;\n",
              "      box-shadow: 0px 1px 3px 1px rgba(0, 0, 0, 0.15);\n",
              "      filter: drop-shadow(0px 1px 2px rgba(0, 0, 0, 0.3));\n",
              "      fill: #FFFFFF;\n",
              "    }\n",
              "  </style>\n",
              "\n",
              "    <script>\n",
              "      const buttonEl =\n",
              "        document.querySelector('#df-1a0c7bda-84e1-44b8-9550-d3af18506fbd button.colab-df-convert');\n",
              "      buttonEl.style.display =\n",
              "        google.colab.kernel.accessAllowed ? 'block' : 'none';\n",
              "\n",
              "      async function convertToInteractive(key) {\n",
              "        const element = document.querySelector('#df-1a0c7bda-84e1-44b8-9550-d3af18506fbd');\n",
              "        const dataTable =\n",
              "          await google.colab.kernel.invokeFunction('convertToInteractive',\n",
              "                                                    [key], {});\n",
              "        if (!dataTable) return;\n",
              "\n",
              "        const docLinkHtml = 'Like what you see? Visit the ' +\n",
              "          '<a target=\"_blank\" href=https://colab.research.google.com/notebooks/data_table.ipynb>data table notebook</a>'\n",
              "          + ' to learn more about interactive tables.';\n",
              "        element.innerHTML = '';\n",
              "        dataTable['output_type'] = 'display_data';\n",
              "        await google.colab.output.renderOutput(dataTable, element);\n",
              "        const docLink = document.createElement('div');\n",
              "        docLink.innerHTML = docLinkHtml;\n",
              "        element.appendChild(docLink);\n",
              "      }\n",
              "    </script>\n",
              "  </div>\n",
              "\n",
              "\n",
              "    <div id=\"df-0fac2e4c-a755-4774-a42d-06ec09366174\">\n",
              "      <button class=\"colab-df-quickchart\" onclick=\"quickchart('df-0fac2e4c-a755-4774-a42d-06ec09366174')\"\n",
              "                title=\"Suggest charts\"\n",
              "                style=\"display:none;\">\n",
              "\n",
              "<svg xmlns=\"http://www.w3.org/2000/svg\" height=\"24px\"viewBox=\"0 0 24 24\"\n",
              "     width=\"24px\">\n",
              "    <g>\n",
              "        <path d=\"M19 3H5c-1.1 0-2 .9-2 2v14c0 1.1.9 2 2 2h14c1.1 0 2-.9 2-2V5c0-1.1-.9-2-2-2zM9 17H7v-7h2v7zm4 0h-2V7h2v10zm4 0h-2v-4h2v4z\"/>\n",
              "    </g>\n",
              "</svg>\n",
              "      </button>\n",
              "\n",
              "<style>\n",
              "  .colab-df-quickchart {\n",
              "      --bg-color: #E8F0FE;\n",
              "      --fill-color: #1967D2;\n",
              "      --hover-bg-color: #E2EBFA;\n",
              "      --hover-fill-color: #174EA6;\n",
              "      --disabled-fill-color: #AAA;\n",
              "      --disabled-bg-color: #DDD;\n",
              "  }\n",
              "\n",
              "  [theme=dark] .colab-df-quickchart {\n",
              "      --bg-color: #3B4455;\n",
              "      --fill-color: #D2E3FC;\n",
              "      --hover-bg-color: #434B5C;\n",
              "      --hover-fill-color: #FFFFFF;\n",
              "      --disabled-bg-color: #3B4455;\n",
              "      --disabled-fill-color: #666;\n",
              "  }\n",
              "\n",
              "  .colab-df-quickchart {\n",
              "    background-color: var(--bg-color);\n",
              "    border: none;\n",
              "    border-radius: 50%;\n",
              "    cursor: pointer;\n",
              "    display: none;\n",
              "    fill: var(--fill-color);\n",
              "    height: 32px;\n",
              "    padding: 0;\n",
              "    width: 32px;\n",
              "  }\n",
              "\n",
              "  .colab-df-quickchart:hover {\n",
              "    background-color: var(--hover-bg-color);\n",
              "    box-shadow: 0 1px 2px rgba(60, 64, 67, 0.3), 0 1px 3px 1px rgba(60, 64, 67, 0.15);\n",
              "    fill: var(--button-hover-fill-color);\n",
              "  }\n",
              "\n",
              "  .colab-df-quickchart-complete:disabled,\n",
              "  .colab-df-quickchart-complete:disabled:hover {\n",
              "    background-color: var(--disabled-bg-color);\n",
              "    fill: var(--disabled-fill-color);\n",
              "    box-shadow: none;\n",
              "  }\n",
              "\n",
              "  .colab-df-spinner {\n",
              "    border: 2px solid var(--fill-color);\n",
              "    border-color: transparent;\n",
              "    border-bottom-color: var(--fill-color);\n",
              "    animation:\n",
              "      spin 1s steps(1) infinite;\n",
              "  }\n",
              "\n",
              "  @keyframes spin {\n",
              "    0% {\n",
              "      border-color: transparent;\n",
              "      border-bottom-color: var(--fill-color);\n",
              "      border-left-color: var(--fill-color);\n",
              "    }\n",
              "    20% {\n",
              "      border-color: transparent;\n",
              "      border-left-color: var(--fill-color);\n",
              "      border-top-color: var(--fill-color);\n",
              "    }\n",
              "    30% {\n",
              "      border-color: transparent;\n",
              "      border-left-color: var(--fill-color);\n",
              "      border-top-color: var(--fill-color);\n",
              "      border-right-color: var(--fill-color);\n",
              "    }\n",
              "    40% {\n",
              "      border-color: transparent;\n",
              "      border-right-color: var(--fill-color);\n",
              "      border-top-color: var(--fill-color);\n",
              "    }\n",
              "    60% {\n",
              "      border-color: transparent;\n",
              "      border-right-color: var(--fill-color);\n",
              "    }\n",
              "    80% {\n",
              "      border-color: transparent;\n",
              "      border-right-color: var(--fill-color);\n",
              "      border-bottom-color: var(--fill-color);\n",
              "    }\n",
              "    90% {\n",
              "      border-color: transparent;\n",
              "      border-bottom-color: var(--fill-color);\n",
              "    }\n",
              "  }\n",
              "</style>\n",
              "\n",
              "      <script>\n",
              "        async function quickchart(key) {\n",
              "          const quickchartButtonEl =\n",
              "            document.querySelector('#' + key + ' button');\n",
              "          quickchartButtonEl.disabled = true;  // To prevent multiple clicks.\n",
              "          quickchartButtonEl.classList.add('colab-df-spinner');\n",
              "          try {\n",
              "            const charts = await google.colab.kernel.invokeFunction(\n",
              "                'suggestCharts', [key], {});\n",
              "          } catch (error) {\n",
              "            console.error('Error during call to suggestCharts:', error);\n",
              "          }\n",
              "          quickchartButtonEl.classList.remove('colab-df-spinner');\n",
              "          quickchartButtonEl.classList.add('colab-df-quickchart-complete');\n",
              "        }\n",
              "        (() => {\n",
              "          let quickchartButtonEl =\n",
              "            document.querySelector('#df-0fac2e4c-a755-4774-a42d-06ec09366174 button');\n",
              "          quickchartButtonEl.style.display =\n",
              "            google.colab.kernel.accessAllowed ? 'block' : 'none';\n",
              "        })();\n",
              "      </script>\n",
              "    </div>\n",
              "    </div>\n",
              "  </div>\n"
            ],
            "application/vnd.google.colaboratory.intrinsic+json": {
              "type": "dataframe",
              "variable_name": "importance_df",
              "summary": "{\n  \"name\": \"importance_df\",\n  \"rows\": 114,\n  \"fields\": [\n    {\n      \"column\": \"feature\",\n      \"properties\": {\n        \"dtype\": \"string\",\n        \"num_unique_values\": 114,\n        \"samples\": [\n          \"\\u043a\\u0440\\u0435\\u0434\\u0438\\u0442\\u043d\\u044b\\u0439_\\u0431\\u0430\\u043b\\u0430\\u043d\\u0441_\\u043f\\u043e_\\u0432\\u043e\\u0437\\u043e\\u0431_\\u0441\\u0447\\u0435\\u0442\\u0430\\u043c\",\n          \"\\u043f\\u0440\\u043e\\u0444\\u0435\\u0441\\u0441\\u0438\\u044f_\\u0437\\u0430\\u0435\\u043c\\u0449\\u0438\\u043a\\u0430\",\n          \"\\u0441\\u0443\\u043c\\u043c\\u0430_\\u043d\\u0430_\\u0441\\u0447\\u0435\\u0442\\u0430\\u0445_\\u043a_\\u0430\\u043d\\u043d\\u0443\\u0438\\u0442\\u0435\\u0442\\u0443\"\n        ],\n        \"semantic_type\": \"\",\n        \"description\": \"\"\n      }\n    },\n    {\n      \"column\": \"importance\",\n      \"properties\": {\n        \"dtype\": \"number\",\n        \"std\": 1.6130747698141261,\n        \"min\": 0.0,\n        \"max\": 13.276959805448556,\n        \"num_unique_values\": 110,\n        \"samples\": [\n          0.16352285043622697,\n          2.2232130074002994,\n          3.4897146781301074\n        ],\n        \"semantic_type\": \"\",\n        \"description\": \"\"\n      }\n    }\n  ]\n}"
            }
          },
          "metadata": {},
          "execution_count": 34
        }
      ],
      "source": [
        "importance_df"
      ]
    },
    {
      "cell_type": "markdown",
      "source": [
        "Удаляем признаки с низкой важностью"
      ],
      "metadata": {
        "id": "-cZF8d7hKE9Y"
      }
    },
    {
      "cell_type": "code",
      "source": [
        "# threshold = 0.01 (0.7660)\n",
        "# threshold = 0.05 (0.7662)\n",
        "# threshold = 0.15 (0.7662)\n",
        "threshold = 0.3\n",
        "# threshold = 0.5\n",
        "\n",
        "features_to_keep = importance_df[importance_df['importance'] >= threshold]['feature'].tolist()"
      ],
      "metadata": {
        "id": "Wb5rpsw3IE04"
      },
      "execution_count": null,
      "outputs": []
    },
    {
      "cell_type": "code",
      "source": [
        "X = X[features_to_keep]"
      ],
      "metadata": {
        "id": "lfuBQFIJKGD9"
      },
      "execution_count": null,
      "outputs": []
    },
    {
      "cell_type": "code",
      "source": [
        "kf = StratifiedKFold(n_splits=5, shuffle=True, random_state=42)\n",
        "models = []\n",
        "oof_preds = np.zeros(len(X))\n",
        "cat_features = X.select_dtypes(include='object').columns.tolist()\n",
        "\n",
        "# Заполняем пропуски в категориальных признаках\n",
        "for col in cat_features:\n",
        "    if col in X.columns:\n",
        "        X[col] = X[col].fillna('nan').astype(str)\n",
        "\n",
        "for train_idx, val_idx in kf.split(X, y):\n",
        "    X_train, X_val = X.iloc[train_idx], X.iloc[val_idx]\n",
        "    y_train, y_val = y.iloc[train_idx], y.iloc[val_idx]\n",
        "\n",
        "    model = CatBoostClassifier(\n",
        "        iterations=500,\n",
        "        learning_rate=0.1,\n",
        "        depth=8,\n",
        "        l2_leaf_reg=3.0,\n",
        "        random_strength=0.1,\n",
        "        eval_metric='AUC',\n",
        "        early_stopping_rounds=50,\n",
        "        verbose=200,\n",
        "        random_state=42,\n",
        "        cat_features=cat_features,\n",
        "        task_type='GPU'\n",
        "    )\n",
        "\n",
        "    model.fit(X_train, y_train, eval_set=(X_val, y_val), use_best_model=True)\n",
        "    val_pred = model.predict_proba(X_val)[:, 1]\n",
        "    oof_preds[val_idx] = val_pred\n",
        "\n",
        "    models.append(model)\n",
        "\n",
        "print(f\"Validation OOF AUC: {roc_auc_score(y, oof_preds):.4f}\")"
      ],
      "metadata": {
        "colab": {
          "base_uri": "https://localhost:8080/"
        },
        "id": "z0M_5cq0KNIO",
        "outputId": "f066a1d2-7eec-46e1-c226-b86849e1a332"
      },
      "execution_count": null,
      "outputs": [
        {
          "output_type": "stream",
          "name": "stderr",
          "text": [
            "Default metric period is 5 because AUC is/are not implemented for GPU\n"
          ]
        },
        {
          "output_type": "stream",
          "name": "stdout",
          "text": [
            "0:\ttest: 0.7307394\tbest: 0.7307394 (0)\ttotal: 345ms\tremaining: 2m 52s\n",
            "200:\ttest: 0.7608950\tbest: 0.7608950 (200)\ttotal: 47s\tremaining: 1m 9s\n",
            "400:\ttest: 0.7643622\tbest: 0.7643622 (400)\ttotal: 1m 32s\tremaining: 22.8s\n",
            "499:\ttest: 0.7649084\tbest: 0.7649084 (499)\ttotal: 1m 56s\tremaining: 0us\n",
            "bestTest = 0.764908433\n",
            "bestIteration = 499\n"
          ]
        },
        {
          "output_type": "stream",
          "name": "stderr",
          "text": [
            "Default metric period is 5 because AUC is/are not implemented for GPU\n"
          ]
        },
        {
          "output_type": "stream",
          "name": "stdout",
          "text": [
            "0:\ttest: 0.7303998\tbest: 0.7303998 (0)\ttotal: 374ms\tremaining: 3m 6s\n",
            "200:\ttest: 0.7606204\tbest: 0.7606204 (200)\ttotal: 46.7s\tremaining: 1m 9s\n",
            "400:\ttest: 0.7642750\tbest: 0.7642750 (400)\ttotal: 1m 32s\tremaining: 22.8s\n",
            "499:\ttest: 0.7653544\tbest: 0.7653544 (497)\ttotal: 1m 55s\tremaining: 0us\n",
            "bestTest = 0.7653543949\n",
            "bestIteration = 497\n",
            "Shrink model to first 498 iterations.\n"
          ]
        },
        {
          "output_type": "stream",
          "name": "stderr",
          "text": [
            "Default metric period is 5 because AUC is/are not implemented for GPU\n"
          ]
        },
        {
          "output_type": "stream",
          "name": "stdout",
          "text": [
            "0:\ttest: 0.7300300\tbest: 0.7300300 (0)\ttotal: 209ms\tremaining: 1m 44s\n",
            "200:\ttest: 0.7634290\tbest: 0.7634290 (200)\ttotal: 45.2s\tremaining: 1m 7s\n",
            "400:\ttest: 0.7665059\tbest: 0.7665059 (400)\ttotal: 1m 30s\tremaining: 22.3s\n",
            "499:\ttest: 0.7670280\tbest: 0.7670280 (499)\ttotal: 1m 53s\tremaining: 0us\n",
            "bestTest = 0.7670280337\n",
            "bestIteration = 499\n"
          ]
        },
        {
          "output_type": "stream",
          "name": "stderr",
          "text": [
            "Default metric period is 5 because AUC is/are not implemented for GPU\n"
          ]
        },
        {
          "output_type": "stream",
          "name": "stdout",
          "text": [
            "0:\ttest: 0.7288531\tbest: 0.7288531 (0)\ttotal: 318ms\tremaining: 2m 38s\n",
            "200:\ttest: 0.7620229\tbest: 0.7620229 (200)\ttotal: 46.7s\tremaining: 1m 9s\n",
            "400:\ttest: 0.7646940\tbest: 0.7646940 (400)\ttotal: 1m 33s\tremaining: 23.1s\n",
            "499:\ttest: 0.7651141\tbest: 0.7651141 (499)\ttotal: 1m 55s\tremaining: 0us\n",
            "bestTest = 0.7651140988\n",
            "bestIteration = 499\n"
          ]
        },
        {
          "output_type": "stream",
          "name": "stderr",
          "text": [
            "Default metric period is 5 because AUC is/are not implemented for GPU\n"
          ]
        },
        {
          "output_type": "stream",
          "name": "stdout",
          "text": [
            "0:\ttest: 0.7257281\tbest: 0.7257281 (0)\ttotal: 422ms\tremaining: 3m 30s\n",
            "200:\ttest: 0.7614709\tbest: 0.7614709 (200)\ttotal: 46.1s\tremaining: 1m 8s\n",
            "400:\ttest: 0.7651346\tbest: 0.7651346 (400)\ttotal: 1m 31s\tremaining: 22.7s\n",
            "499:\ttest: 0.7659290\tbest: 0.7659290 (499)\ttotal: 1m 55s\tremaining: 0us\n",
            "bestTest = 0.7659290433\n",
            "bestIteration = 499\n",
            "Validation OOF AUC: 0.7657\n"
          ]
        }
      ]
    },
    {
      "cell_type": "code",
      "source": [
        "# 1. Выбираем только числовые признаки\n",
        "num_features = X.select_dtypes(include=['int64', 'float64']).columns.tolist()\n",
        "\n",
        "# 2. Строим матрицу корреляций Пирсона\n",
        "corr_matrix = X[num_features].corr().abs()\n",
        "\n",
        "# 3. Создаем маску для верхнего треугольника матрицы (чтобы не дублировать пары)\n",
        "#    np.ones_like создает массив единиц такой же формы, как corr_matrix\n",
        "#    np.triu возвращает верхнюю треугольную часть массива (включая диагональ)\n",
        "#    .astype(bool) преобразует в булевый массив\n",
        "upper_triangle_mask = np.triu(np.ones_like(corr_matrix, dtype=bool), k=1)\n",
        "\n",
        "# 4. Применяем маску, чтобы получить только верхний треугольник\n",
        "upper_triangle = corr_matrix.where(upper_triangle_mask)\n",
        "\n",
        "# 5. Находим признаки с корреляцией больше порога\n",
        "high_corr_pairs = upper_triangle > 0.95\n",
        "\n",
        "# 6. Получаем список признаков для удаления\n",
        "#    stack() преобразует DataFrame в Series с MultiIndex\n",
        "#    loc[high_corr_pairs.stack()] отбирает только те пары, где корреляция > 0.95\n",
        "#    index.droplevel(1).unique() получает уникальные имена признаков из первого уровня индекса\n",
        "to_drop = high_corr_pairs.stack()[high_corr_pairs.stack()].index.droplevel(1).unique().tolist()\n",
        "\n",
        "print(f\"Признаки для удаления (корреляция > 0.95): {to_drop}\")\n",
        "\n",
        "# # 7. Удаляем признаки из данных\n",
        "# X_reduced = X.drop(columns=to_drop)\n",
        "\n",
        "# Также не забудьте удалить эти признаки из тестовой выборки\n",
        "# X_test_reduced = X_test.drop(columns=to_drop)\n",
        "\n",
        "# удалить займ_на_доход, нижний_порог_рейтинга, аннуитет, кол-во_возобновляемых_счетов_с_балансом_более_0"
      ],
      "metadata": {
        "colab": {
          "base_uri": "https://localhost:8080/"
        },
        "id": "7k_IyDrzm1B8",
        "outputId": "1b108625-52cf-47de-daeb-e1aba1df1788"
      },
      "execution_count": null,
      "outputs": [
        {
          "output_type": "stream",
          "name": "stdout",
          "text": [
            "Признаки для удаления (корреляция > 0.95): ['займ_на_доход', 'верхний_порог_рейтинга_заемщика', 'сумма_займа', 'кол-во_активных_возобновляемых_счетов']\n"
          ]
        }
      ]
    },
    {
      "cell_type": "code",
      "source": [
        "corr_matrix['кол-во_активных_возобновляемых_счетов']"
      ],
      "metadata": {
        "colab": {
          "base_uri": "https://localhost:8080/",
          "height": 1000
        },
        "id": "vrXwS6bNm2dm",
        "outputId": "bf68b3cd-8eb2-40ce-a46f-f0ea07816dcf"
      },
      "execution_count": null,
      "outputs": [
        {
          "output_type": "execute_result",
          "data": {
            "text/plain": [
              "просрочка_к_доходу                                 0.003086\n",
              "сумма_выплат_по_просрочкам                         0.009547\n",
              "пдн                                                0.190010\n",
              "процентная_ставка                                  0.086646\n",
              "кол-во_открытых_счетов_за_2_года                   0.337524\n",
              "баланс_к_аннуитету                                 0.200307\n",
              "займ_на_доход                                      0.003648\n",
              "кол-во_месяцев_с_первого_возобновляемого_счета     0.159334\n",
              "платеж_на_доход                                    0.003287\n",
              "годовой_доход                                      0.072719\n",
              "верхний_порог_рейтинга_заемщика                    0.187322\n",
              "отношение_просрочек                                0.013329\n",
              "сумма_займа                                        0.153461\n",
              "кол-во_ипотек                                      0.053887\n",
              "индекс_проживания                                  0.031430\n",
              "соотношение_баланса_к_лимиту_общее                 0.011054\n",
              "кол-во_активных_возобновляемых_счетов              1.000000\n",
              "лимит_по_картам                                    0.280928\n",
              "средний_баланс_текущих_счетов                      0.156349\n",
              "кол-во_месяцев_с_первого_аннуитетного_счета        0.065829\n",
              "кредитный_лимит                                    0.117340\n",
              "кол-во_месяцев_с_последней_карты                   0.203390\n",
              "нижний_порог_рейтинга_заемщика                     0.187322\n",
              "кол-во_финансовых_операций                         0.015571\n",
              "кол-во_заявок_за_полгода                           0.126299\n",
              "коэфф_загрузки_возобновляемого_счета               0.107194\n",
              "соотношение_баланса_к_лимиту_по_картам             0.125227\n",
              "кол-во_возобновляемых_счетов_с_балансом_более_0    0.982031\n",
              "кол-во_счетов                                      0.393794\n",
              "кол-во_мес_с_последней_заявки                      0.066382\n",
              "лимит_по_аннуитетным_счетам                        0.024188\n",
              "сумма_на_счетах_к_аннуитету                        0.003309\n",
              "общий_лимит_по_возоб_счету                         0.312801\n",
              "кол-во_заявок_на_кредит_за_год                     0.093433\n",
              "процент_счетов_прев_75_лимита                      0.094819\n",
              "кол-во_счетов_с_акт_просрочкой_4_мес_обн_2_мес     0.003984\n",
              "аннуитет                                           0.160827\n",
              "кол-во_возоб_счетов_за_2_года                      0.454578\n",
              "процент_счетов_без_просрочек                       0.091539\n",
              "кол-во_аннуитетных_счетов                          0.000611\n",
              "кол-во_месяцев_с_последнего_займа                  0.037002\n",
              "Name: кол-во_активных_возобновляемых_счетов, dtype: float64"
            ],
            "text/html": [
              "<div>\n",
              "<style scoped>\n",
              "    .dataframe tbody tr th:only-of-type {\n",
              "        vertical-align: middle;\n",
              "    }\n",
              "\n",
              "    .dataframe tbody tr th {\n",
              "        vertical-align: top;\n",
              "    }\n",
              "\n",
              "    .dataframe thead th {\n",
              "        text-align: right;\n",
              "    }\n",
              "</style>\n",
              "<table border=\"1\" class=\"dataframe\">\n",
              "  <thead>\n",
              "    <tr style=\"text-align: right;\">\n",
              "      <th></th>\n",
              "      <th>кол-во_активных_возобновляемых_счетов</th>\n",
              "    </tr>\n",
              "  </thead>\n",
              "  <tbody>\n",
              "    <tr>\n",
              "      <th>просрочка_к_доходу</th>\n",
              "      <td>0.003086</td>\n",
              "    </tr>\n",
              "    <tr>\n",
              "      <th>сумма_выплат_по_просрочкам</th>\n",
              "      <td>0.009547</td>\n",
              "    </tr>\n",
              "    <tr>\n",
              "      <th>пдн</th>\n",
              "      <td>0.190010</td>\n",
              "    </tr>\n",
              "    <tr>\n",
              "      <th>процентная_ставка</th>\n",
              "      <td>0.086646</td>\n",
              "    </tr>\n",
              "    <tr>\n",
              "      <th>кол-во_открытых_счетов_за_2_года</th>\n",
              "      <td>0.337524</td>\n",
              "    </tr>\n",
              "    <tr>\n",
              "      <th>баланс_к_аннуитету</th>\n",
              "      <td>0.200307</td>\n",
              "    </tr>\n",
              "    <tr>\n",
              "      <th>займ_на_доход</th>\n",
              "      <td>0.003648</td>\n",
              "    </tr>\n",
              "    <tr>\n",
              "      <th>кол-во_месяцев_с_первого_возобновляемого_счета</th>\n",
              "      <td>0.159334</td>\n",
              "    </tr>\n",
              "    <tr>\n",
              "      <th>платеж_на_доход</th>\n",
              "      <td>0.003287</td>\n",
              "    </tr>\n",
              "    <tr>\n",
              "      <th>годовой_доход</th>\n",
              "      <td>0.072719</td>\n",
              "    </tr>\n",
              "    <tr>\n",
              "      <th>верхний_порог_рейтинга_заемщика</th>\n",
              "      <td>0.187322</td>\n",
              "    </tr>\n",
              "    <tr>\n",
              "      <th>отношение_просрочек</th>\n",
              "      <td>0.013329</td>\n",
              "    </tr>\n",
              "    <tr>\n",
              "      <th>сумма_займа</th>\n",
              "      <td>0.153461</td>\n",
              "    </tr>\n",
              "    <tr>\n",
              "      <th>кол-во_ипотек</th>\n",
              "      <td>0.053887</td>\n",
              "    </tr>\n",
              "    <tr>\n",
              "      <th>индекс_проживания</th>\n",
              "      <td>0.031430</td>\n",
              "    </tr>\n",
              "    <tr>\n",
              "      <th>соотношение_баланса_к_лимиту_общее</th>\n",
              "      <td>0.011054</td>\n",
              "    </tr>\n",
              "    <tr>\n",
              "      <th>кол-во_активных_возобновляемых_счетов</th>\n",
              "      <td>1.000000</td>\n",
              "    </tr>\n",
              "    <tr>\n",
              "      <th>лимит_по_картам</th>\n",
              "      <td>0.280928</td>\n",
              "    </tr>\n",
              "    <tr>\n",
              "      <th>средний_баланс_текущих_счетов</th>\n",
              "      <td>0.156349</td>\n",
              "    </tr>\n",
              "    <tr>\n",
              "      <th>кол-во_месяцев_с_первого_аннуитетного_счета</th>\n",
              "      <td>0.065829</td>\n",
              "    </tr>\n",
              "    <tr>\n",
              "      <th>кредитный_лимит</th>\n",
              "      <td>0.117340</td>\n",
              "    </tr>\n",
              "    <tr>\n",
              "      <th>кол-во_месяцев_с_последней_карты</th>\n",
              "      <td>0.203390</td>\n",
              "    </tr>\n",
              "    <tr>\n",
              "      <th>нижний_порог_рейтинга_заемщика</th>\n",
              "      <td>0.187322</td>\n",
              "    </tr>\n",
              "    <tr>\n",
              "      <th>кол-во_финансовых_операций</th>\n",
              "      <td>0.015571</td>\n",
              "    </tr>\n",
              "    <tr>\n",
              "      <th>кол-во_заявок_за_полгода</th>\n",
              "      <td>0.126299</td>\n",
              "    </tr>\n",
              "    <tr>\n",
              "      <th>коэфф_загрузки_возобновляемого_счета</th>\n",
              "      <td>0.107194</td>\n",
              "    </tr>\n",
              "    <tr>\n",
              "      <th>соотношение_баланса_к_лимиту_по_картам</th>\n",
              "      <td>0.125227</td>\n",
              "    </tr>\n",
              "    <tr>\n",
              "      <th>кол-во_возобновляемых_счетов_с_балансом_более_0</th>\n",
              "      <td>0.982031</td>\n",
              "    </tr>\n",
              "    <tr>\n",
              "      <th>кол-во_счетов</th>\n",
              "      <td>0.393794</td>\n",
              "    </tr>\n",
              "    <tr>\n",
              "      <th>кол-во_мес_с_последней_заявки</th>\n",
              "      <td>0.066382</td>\n",
              "    </tr>\n",
              "    <tr>\n",
              "      <th>лимит_по_аннуитетным_счетам</th>\n",
              "      <td>0.024188</td>\n",
              "    </tr>\n",
              "    <tr>\n",
              "      <th>сумма_на_счетах_к_аннуитету</th>\n",
              "      <td>0.003309</td>\n",
              "    </tr>\n",
              "    <tr>\n",
              "      <th>общий_лимит_по_возоб_счету</th>\n",
              "      <td>0.312801</td>\n",
              "    </tr>\n",
              "    <tr>\n",
              "      <th>кол-во_заявок_на_кредит_за_год</th>\n",
              "      <td>0.093433</td>\n",
              "    </tr>\n",
              "    <tr>\n",
              "      <th>процент_счетов_прев_75_лимита</th>\n",
              "      <td>0.094819</td>\n",
              "    </tr>\n",
              "    <tr>\n",
              "      <th>кол-во_счетов_с_акт_просрочкой_4_мес_обн_2_мес</th>\n",
              "      <td>0.003984</td>\n",
              "    </tr>\n",
              "    <tr>\n",
              "      <th>аннуитет</th>\n",
              "      <td>0.160827</td>\n",
              "    </tr>\n",
              "    <tr>\n",
              "      <th>кол-во_возоб_счетов_за_2_года</th>\n",
              "      <td>0.454578</td>\n",
              "    </tr>\n",
              "    <tr>\n",
              "      <th>процент_счетов_без_просрочек</th>\n",
              "      <td>0.091539</td>\n",
              "    </tr>\n",
              "    <tr>\n",
              "      <th>кол-во_аннуитетных_счетов</th>\n",
              "      <td>0.000611</td>\n",
              "    </tr>\n",
              "    <tr>\n",
              "      <th>кол-во_месяцев_с_последнего_займа</th>\n",
              "      <td>0.037002</td>\n",
              "    </tr>\n",
              "  </tbody>\n",
              "</table>\n",
              "</div><br><label><b>dtype:</b> float64</label>"
            ]
          },
          "metadata": {},
          "execution_count": 37
        }
      ]
    },
    {
      "cell_type": "code",
      "source": [
        "X_d = X.drop(['займ_на_доход', 'нижний_порог_рейтинга_заемщика', 'сумма_займа', 'кол-во_возобновляемых_счетов_с_балансом_более_0'], axis=1)"
      ],
      "metadata": {
        "id": "wWaAqzXcnMl2"
      },
      "execution_count": null,
      "outputs": []
    },
    {
      "cell_type": "code",
      "source": [
        "kf = StratifiedKFold(n_splits=5, shuffle=True, random_state=42)\n",
        "models = []\n",
        "oof_preds = np.zeros(len(X))\n",
        "cat_features = X_d.select_dtypes(include='object').columns.tolist()\n",
        "\n",
        "# Заполняем пропуски в категориальных признаках\n",
        "for col in cat_features:\n",
        "    if col in X_d.columns:\n",
        "        X_d[col] = X_d[col].fillna('nan').astype(str)\n",
        "\n",
        "for train_idx, val_idx in kf.split(X_d, y):\n",
        "    X_train, X_val = X_d.iloc[train_idx], X_d.iloc[val_idx]\n",
        "    y_train, y_val = y.iloc[train_idx], y.iloc[val_idx]\n",
        "\n",
        "    model = CatBoostClassifier(\n",
        "        iterations=600,\n",
        "        learning_rate=0.1,\n",
        "        depth=8,\n",
        "        l2_leaf_reg=3.0,\n",
        "        random_strength=0.1,\n",
        "        eval_metric='AUC',\n",
        "        early_stopping_rounds=50,\n",
        "        verbose=200,\n",
        "        random_state=42,\n",
        "        cat_features=cat_features,\n",
        "        task_type='GPU'\n",
        "    )\n",
        "\n",
        "    model.fit(X_train, y_train, eval_set=(X_val, y_val), use_best_model=True)\n",
        "    val_pred = model.predict_proba(X_val)[:, 1]\n",
        "    oof_preds[val_idx] = val_pred\n",
        "\n",
        "    models.append(model)\n",
        "\n",
        "print(f\"Validation OOF AUC: {roc_auc_score(y, oof_preds):.4f}\")"
      ],
      "metadata": {
        "colab": {
          "base_uri": "https://localhost:8080/"
        },
        "id": "7vQ2HNtJqmxb",
        "outputId": "169c2e10-fc04-4dd0-85c9-ee26b89592f6"
      },
      "execution_count": null,
      "outputs": [
        {
          "output_type": "stream",
          "name": "stderr",
          "text": [
            "Default metric period is 5 because AUC is/are not implemented for GPU\n"
          ]
        },
        {
          "output_type": "stream",
          "name": "stdout",
          "text": [
            "0:\ttest: 0.7307336\tbest: 0.7307336 (0)\ttotal: 416ms\tremaining: 4m 9s\n",
            "200:\ttest: 0.7603821\tbest: 0.7603821 (200)\ttotal: 49s\tremaining: 1m 37s\n",
            "400:\ttest: 0.7649130\tbest: 0.7649159 (399)\ttotal: 1m 37s\tremaining: 48.4s\n",
            "599:\ttest: 0.7657747\tbest: 0.7657843 (590)\ttotal: 2m 27s\tremaining: 0us\n",
            "bestTest = 0.7657843232\n",
            "bestIteration = 590\n",
            "Shrink model to first 591 iterations.\n"
          ]
        },
        {
          "output_type": "stream",
          "name": "stderr",
          "text": [
            "Default metric period is 5 because AUC is/are not implemented for GPU\n"
          ]
        },
        {
          "output_type": "stream",
          "name": "stdout",
          "text": [
            "0:\ttest: 0.7303998\tbest: 0.7303998 (0)\ttotal: 363ms\tremaining: 3m 37s\n",
            "200:\ttest: 0.7611369\tbest: 0.7611369 (200)\ttotal: 48.6s\tremaining: 1m 36s\n",
            "400:\ttest: 0.7652695\tbest: 0.7652738 (399)\ttotal: 1m 36s\tremaining: 48s\n",
            "599:\ttest: 0.7665174\tbest: 0.7665174 (599)\ttotal: 2m 24s\tremaining: 0us\n",
            "bestTest = 0.7665173709\n",
            "bestIteration = 599\n"
          ]
        },
        {
          "output_type": "stream",
          "name": "stderr",
          "text": [
            "Default metric period is 5 because AUC is/are not implemented for GPU\n"
          ]
        },
        {
          "output_type": "stream",
          "name": "stdout",
          "text": [
            "0:\ttest: 0.7303323\tbest: 0.7303323 (0)\ttotal: 250ms\tremaining: 2m 30s\n",
            "200:\ttest: 0.7635261\tbest: 0.7635261 (200)\ttotal: 48.4s\tremaining: 1m 36s\n",
            "400:\ttest: 0.7665332\tbest: 0.7665332 (400)\ttotal: 1m 37s\tremaining: 48.4s\n",
            "599:\ttest: 0.7680431\tbest: 0.7680431 (599)\ttotal: 2m 26s\tremaining: 0us\n",
            "bestTest = 0.768043071\n",
            "bestIteration = 599\n"
          ]
        },
        {
          "output_type": "stream",
          "name": "stderr",
          "text": [
            "Default metric period is 5 because AUC is/are not implemented for GPU\n"
          ]
        },
        {
          "output_type": "stream",
          "name": "stdout",
          "text": [
            "0:\ttest: 0.7288531\tbest: 0.7288531 (0)\ttotal: 262ms\tremaining: 2m 37s\n",
            "200:\ttest: 0.7619585\tbest: 0.7619585 (200)\ttotal: 47.9s\tremaining: 1m 35s\n",
            "400:\ttest: 0.7650737\tbest: 0.7650737 (400)\ttotal: 1m 37s\tremaining: 48.5s\n",
            "599:\ttest: 0.7663580\tbest: 0.7663644 (591)\ttotal: 2m 26s\tremaining: 0us\n",
            "bestTest = 0.7663643658\n",
            "bestIteration = 591\n",
            "Shrink model to first 592 iterations.\n"
          ]
        },
        {
          "output_type": "stream",
          "name": "stderr",
          "text": [
            "Default metric period is 5 because AUC is/are not implemented for GPU\n"
          ]
        },
        {
          "output_type": "stream",
          "name": "stdout",
          "text": [
            "0:\ttest: 0.7290744\tbest: 0.7290744 (0)\ttotal: 440ms\tremaining: 4m 23s\n",
            "200:\ttest: 0.7628448\tbest: 0.7628448 (200)\ttotal: 48.4s\tremaining: 1m 35s\n",
            "400:\ttest: 0.7660215\tbest: 0.7660215 (400)\ttotal: 1m 36s\tremaining: 47.8s\n",
            "599:\ttest: 0.7677265\tbest: 0.7677265 (599)\ttotal: 2m 25s\tremaining: 0us\n",
            "bestTest = 0.7677265406\n",
            "bestIteration = 599\n",
            "Validation OOF AUC: 0.7669\n"
          ]
        }
      ]
    },
    {
      "cell_type": "code",
      "source": [],
      "metadata": {
        "id": "ohkSi48FrBM5"
      },
      "execution_count": null,
      "outputs": []
    }
  ],
  "metadata": {
    "accelerator": "GPU",
    "colab": {
      "gpuType": "T4",
      "provenance": [],
      "mount_file_id": "1pOxDUZM1AvWVEfDtmm3IglTm8CFKH6U0",
      "authorship_tag": "ABX9TyNGUMT42V1r2vuul8Bh3hkz",
      "include_colab_link": true
    },
    "kernelspec": {
      "display_name": "Python 3",
      "name": "python3"
    },
    "language_info": {
      "name": "python"
    }
  },
  "nbformat": 4,
  "nbformat_minor": 0
}